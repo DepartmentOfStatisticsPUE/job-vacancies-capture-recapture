{
 "cells": [
  {
   "cell_type": "markdown",
   "metadata": {},
   "source": [
    "# 1. Readme\n"
   ]
  },
  {
   "cell_type": "markdown",
   "metadata": {},
   "source": [
    "## 1.1 Required packages"
   ]
  },
  {
   "cell_type": "code",
   "execution_count": 2,
   "metadata": {},
   "outputs": [
    {
     "name": "stderr",
     "output_type": "stream",
     "text": [
      "┌ Info: Precompiling Ipopt [b6b21f68-93f8-5de0-b562-5493be1d77c9]\n",
      "└ @ Base loading.jl:1342\n"
     ]
    }
   ],
   "source": [
    "using JuMP ## optimization\n",
    "using Ipopt ## nonlinear optimization\n",
    " \n",
    "using ForwardDiff ## autodiff - gradient and hessian\n",
    "using LinearAlgebra\n",
    "using Random\n",
    "using Statistics\n",
    "using Distributions\n",
    "\n",
    "using CSV\n",
    "using DataFrames\n",
    "using Pipe\n",
    "\n",
    "using Plots\n",
    "using Makie\n",
    "using CairoMakie\n",
    "\n",
    "using Latexify\n",
    "using ZipFile"
   ]
  },
  {
   "cell_type": "markdown",
   "metadata": {},
   "source": [
    "## 1.3 Functions for optimization"
   ]
  },
  {
   "cell_type": "code",
   "execution_count": 3,
   "metadata": {},
   "outputs": [
    {
     "data": {
      "text/plain": [
       "sample_from_n (generic function with 1 method)"
      ]
     },
     "execution_count": 3,
     "metadata": {},
     "output_type": "execute_result"
    }
   ],
   "source": [
    "include(\"functions.jl\")"
   ]
  },
  {
   "cell_type": "markdown",
   "metadata": {},
   "source": [
    "# 2. Empirical study"
   ]
  },
  {
   "cell_type": "markdown",
   "metadata": {},
   "source": [
    "## 2.1 Read the data"
   ]
  },
  {
   "cell_type": "markdown",
   "metadata": {},
   "source": [
    "Download data from Github repository"
   ]
  },
  {
   "cell_type": "code",
   "execution_count": 4,
   "metadata": {},
   "outputs": [
    {
     "data": {
      "text/html": [
       "<div class=\"data-frame\"><p>10 rows × 19 columns (omitted printing of 17 columns)</p><table class=\"data-frame\"><thead><tr><th></th><th>id_unit</th><th>id_ad</th></tr><tr><th></th><th title=\"String\">String</th><th title=\"String\">String</th></tr></thead><tbody><tr><th>1</th><td>1b4701354603e4f186a443940768aecf1e38d65c</td><td>b88aaaf7d35782005f90dc1c9d2dc0dc27902285</td></tr><tr><th>2</th><td>32f40ce1c624214de376f791a6e0e365c5cdeea6</td><td>da840976961bcf05d9b670fbf9063a8e9e76277c</td></tr><tr><th>3</th><td>623fa6eee4d0e31cf1db41724d4630ae35f8cec0</td><td>ed5193dabf23fe46eeee8df4aa532ef6c958831a</td></tr><tr><th>4</th><td>623fa6eee4d0e31cf1db41724d4630ae35f8cec0</td><td>282a00d492521b2f522d5e54cc0e4d9ee885e2cd</td></tr><tr><th>5</th><td>623fa6eee4d0e31cf1db41724d4630ae35f8cec0</td><td>7cd7a9ec93f21cdc3028f6ae67c49e484a47d8a1</td></tr><tr><th>6</th><td>dd6e32263037e81f124a256869cf48ea319c0e22</td><td>3319f8670628fc65269b4450df964c260a1e3d63</td></tr><tr><th>7</th><td>dd6e32263037e81f124a256869cf48ea319c0e22</td><td>dfda7d3be12c076c80b897e9b0831d2f6005c543</td></tr><tr><th>8</th><td>d0d15c10127d71d32a3b95ef50bb039cbe1c2293</td><td>675f6a2198d30f6529b577000e73f61178d96109</td></tr><tr><th>9</th><td>d0d15c10127d71d32a3b95ef50bb039cbe1c2293</td><td>ce0a2b7a25685691885dc8582ec05be61f7e2712</td></tr><tr><th>10</th><td>50e8eda324cd3e775e85f455c753bf7b929860c7</td><td>15a147c9eca85e103cc19db267ac589e97185ba2</td></tr></tbody></table></div>"
      ],
      "text/latex": [
       "\\begin{tabular}{r|ccc}\n",
       "\t& id\\_unit & id\\_ad & \\\\\n",
       "\t\\hline\n",
       "\t& String & String & \\\\\n",
       "\t\\hline\n",
       "\t1 & 1b4701354603e4f186a443940768aecf1e38d65c & b88aaaf7d35782005f90dc1c9d2dc0dc27902285 & $\\dots$ \\\\\n",
       "\t2 & 32f40ce1c624214de376f791a6e0e365c5cdeea6 & da840976961bcf05d9b670fbf9063a8e9e76277c & $\\dots$ \\\\\n",
       "\t3 & 623fa6eee4d0e31cf1db41724d4630ae35f8cec0 & ed5193dabf23fe46eeee8df4aa532ef6c958831a & $\\dots$ \\\\\n",
       "\t4 & 623fa6eee4d0e31cf1db41724d4630ae35f8cec0 & 282a00d492521b2f522d5e54cc0e4d9ee885e2cd & $\\dots$ \\\\\n",
       "\t5 & 623fa6eee4d0e31cf1db41724d4630ae35f8cec0 & 7cd7a9ec93f21cdc3028f6ae67c49e484a47d8a1 & $\\dots$ \\\\\n",
       "\t6 & dd6e32263037e81f124a256869cf48ea319c0e22 & 3319f8670628fc65269b4450df964c260a1e3d63 & $\\dots$ \\\\\n",
       "\t7 & dd6e32263037e81f124a256869cf48ea319c0e22 & dfda7d3be12c076c80b897e9b0831d2f6005c543 & $\\dots$ \\\\\n",
       "\t8 & d0d15c10127d71d32a3b95ef50bb039cbe1c2293 & 675f6a2198d30f6529b577000e73f61178d96109 & $\\dots$ \\\\\n",
       "\t9 & d0d15c10127d71d32a3b95ef50bb039cbe1c2293 & ce0a2b7a25685691885dc8582ec05be61f7e2712 & $\\dots$ \\\\\n",
       "\t10 & 50e8eda324cd3e775e85f455c753bf7b929860c7 & 15a147c9eca85e103cc19db267ac589e97185ba2 & $\\dots$ \\\\\n",
       "\\end{tabular}\n"
      ],
      "text/plain": [
       "\u001b[1m10×19 DataFrame\u001b[0m\n",
       "\u001b[1m Row \u001b[0m│\u001b[1m id_unit                           \u001b[0m\u001b[1m id_ad                             \u001b[0m\u001b[1m d\u001b[0m ⋯\n",
       "\u001b[1m     \u001b[0m│\u001b[90m String                            \u001b[0m\u001b[90m String                            \u001b[0m\u001b[90m D\u001b[0m ⋯\n",
       "─────┼──────────────────────────────────────────────────────────────────────────\n",
       "   1 │ 1b4701354603e4f186a443940768aecf…  b88aaaf7d35782005f90dc1c9d2dc0dc…  2 ⋯\n",
       "   2 │ 32f40ce1c624214de376f791a6e0e365…  da840976961bcf05d9b670fbf9063a8e…  2\n",
       "   3 │ 623fa6eee4d0e31cf1db41724d4630ae…  ed5193dabf23fe46eeee8df4aa532ef6…  2\n",
       "   4 │ 623fa6eee4d0e31cf1db41724d4630ae…  282a00d492521b2f522d5e54cc0e4d9e…  2\n",
       "   5 │ 623fa6eee4d0e31cf1db41724d4630ae…  7cd7a9ec93f21cdc3028f6ae67c49e48…  2 ⋯\n",
       "   6 │ dd6e32263037e81f124a256869cf48ea…  3319f8670628fc65269b4450df964c26…  2\n",
       "   7 │ dd6e32263037e81f124a256869cf48ea…  dfda7d3be12c076c80b897e9b0831d2f…  2\n",
       "   8 │ d0d15c10127d71d32a3b95ef50bb039c…  675f6a2198d30f6529b577000e73f611…  2\n",
       "   9 │ d0d15c10127d71d32a3b95ef50bb039c…  ce0a2b7a25685691885dc8582ec05be6…  2 ⋯\n",
       "  10 │ 50e8eda324cd3e775e85f455c753bf7b…  15a147c9eca85e103cc19db267ac589e…  2\n",
       "\u001b[36m                                                              17 columns omitted\u001b[0m"
      ]
     },
     "execution_count": 4,
     "metadata": {},
     "output_type": "execute_result"
    }
   ],
   "source": [
    "z = ZipFile.Reader(\"../data/data-for-capture-recapture.csv.zip\") \n",
    "a_file_in_zip = filter(x -> x.name == \"data-for-capture-recapture.csv\", z.files)[1]\n",
    "cr_data = CSV.read(a_file_in_zip, DataFrame) \n",
    "first(cr_data, 10)"
   ]
  },
  {
   "cell_type": "code",
   "execution_count": 6,
   "metadata": {
    "scrolled": true
   },
   "outputs": [
    {
     "name": "stdout",
     "output_type": "stream",
     "text": [
      "Population size: 73106.39992574352\n",
      "Gradient: 0.00015467567127980253\n",
      "Bootstrap started\n",
      "Population size: 62886.7901183387\n",
      "Gradient: 0.00019798190522335446\n",
      "Bootstrap started\n",
      "Population size: 63376.895774263336\n",
      "Gradient: 9.890037682713793e-5\n",
      "Bootstrap started\n",
      "Population size: 48732.726362702706\n",
      "Gradient: 4.3973830585575246e-5\n",
      "Bootstrap started\n"
     ]
    }
   ],
   "source": [
    "Random.seed!(111)\n",
    "results_q1 = cr_averse_analysis(cr_data, :q1, :q1_days, 30, :size, \"D\", true, 10, true);\n",
    "results_q2 = cr_averse_analysis(cr_data, :q2, :q2_days, 30, :size, \"D\", true, 10, true);\n",
    "results_q3 = cr_averse_analysis(cr_data, :q3, :q3_days, 30, :size, \"D\", true, 10, true);\n",
    "results_q4 = cr_averse_analysis(cr_data, :q4, :q4_days, 30, :size, \"D\", true, 10, true);"
   ]
  },
  {
   "cell_type": "markdown",
   "metadata": {},
   "source": [
    "Naive estimators for comparison"
   ]
  },
  {
   "cell_type": "code",
   "execution_count": 9,
   "metadata": {},
   "outputs": [
    {
     "ename": "LoadError",
     "evalue": "MethodError: no method matching create_data(::DataFrame, ::Symbol, ::Symbol, ::Int64)\n\u001b[0mClosest candidates are:\n\u001b[0m  create_data(::Any, ::Symbol, ::Symbol, ::Int64, \u001b[91m::Symbol\u001b[39m, \u001b[91m::Any\u001b[39m) at /Users/berenz/git/nauka/job-offers-CR/github-repo/codes/functions.jl:64",
     "output_type": "error",
     "traceback": [
      "MethodError: no method matching create_data(::DataFrame, ::Symbol, ::Symbol, ::Int64)\n\u001b[0mClosest candidates are:\n\u001b[0m  create_data(::Any, ::Symbol, ::Symbol, ::Int64, \u001b[91m::Symbol\u001b[39m, \u001b[91m::Any\u001b[39m) at /Users/berenz/git/nauka/job-offers-CR/github-repo/codes/functions.jl:64",
      "",
      "Stacktrace:",
      " [1] top-level scope",
      "   @ In[9]:1",
      " [2] eval",
      "   @ ./boot.jl:360 [inlined]",
      " [3] include_string(mapexpr::typeof(REPL.softscope), mod::Module, code::String, filename::String)",
      "   @ Base ./loading.jl:1094"
     ]
    }
   ],
   "source": [
    "@pipe create_data(cr_data, :q1, :q1_days, 30) |>\n",
    "      groupby(_, [:cbop, :pracuj]) |>\n",
    "      combine(_, :count => sum => :N) |>\n",
    "      sort(_, [:cbop, :pracuj], rev = true) |>\n",
    "      ( (_.N[1] + _.N[2])*(_.N[1]+_.N[3])/_.N[1]) |> println\n",
    "\n",
    "@pipe create_data(cr_data, :q2, :q2_days, 30) |>\n",
    "      groupby(_, [:cbop, :pracuj]) |>\n",
    "      combine(_, :count => sum => :N) |>\n",
    "      sort(_, [:cbop, :pracuj], rev = true) |>\n",
    "      ( (_.N[1] + _.N[2])*(_.N[1]+_.N[3])/_.N[1]) |> println\n",
    "\n",
    "@pipe create_data(cr_data, :q3, :q3_days, 30) |>\n",
    "      groupby(_, [:cbop, :pracuj]) |>\n",
    "      combine(_, :count => sum => :N) |>\n",
    "      sort(_, [:cbop, :pracuj], rev = true) |>\n",
    "      ( (_.N[1] + _.N[2])*(_.N[1]+_.N[3])/_.N[1]) |> println\n",
    "\n",
    "@pipe create_data(cr_data, :q4, :q4_days, 30) |>\n",
    "      groupby(_, [:cbop, :pracuj]) |>\n",
    "      combine(_, :count => sum => :N) |>\n",
    "      sort(_, [:cbop, :pracuj], rev = true) |>\n",
    "      ( (_.N[1] + _.N[2])*(_.N[1]+_.N[3])/_.N[1]) |> println\n"
   ]
  },
  {
   "cell_type": "code",
   "execution_count": 10,
   "metadata": {},
   "outputs": [
    {
     "ename": "LoadError",
     "evalue": "MethodError: no method matching create_data(::DataFrame, ::Symbol, ::Symbol, ::Int64)\n\u001b[0mClosest candidates are:\n\u001b[0m  create_data(::Any, ::Symbol, ::Symbol, ::Int64, \u001b[91m::Symbol\u001b[39m, \u001b[91m::Any\u001b[39m) at /Users/berenz/git/nauka/job-offers-CR/github-repo/codes/functions.jl:64",
     "output_type": "error",
     "traceback": [
      "MethodError: no method matching create_data(::DataFrame, ::Symbol, ::Symbol, ::Int64)\n\u001b[0mClosest candidates are:\n\u001b[0m  create_data(::Any, ::Symbol, ::Symbol, ::Int64, \u001b[91m::Symbol\u001b[39m, \u001b[91m::Any\u001b[39m) at /Users/berenz/git/nauka/job-offers-CR/github-repo/codes/functions.jl:64",
      "",
      "Stacktrace:",
      " [1] top-level scope",
      "   @ In[10]:1",
      " [2] eval",
      "   @ ./boot.jl:360 [inlined]",
      " [3] include_string(mapexpr::typeof(REPL.softscope), mod::Module, code::String, filename::String)",
      "   @ Base ./loading.jl:1094"
     ]
    }
   ],
   "source": [
    "@pipe create_data(cr_data, :q1, :q1_days, 30) |>\n",
    "      sort(_, [:cbop, :pracuj], rev = true) |>\n",
    "      groupby(_, [:size2]) |> \n",
    "      combine(_, :count => (x -> (x[1]+x[2])*(x[1]+x[3])/x[1] )) |>\n",
    "    latexify(_; env=:table, latex=false, adjustment = :r, fmt = \"%.f\") |> println\n",
    "\n",
    "@pipe create_data(cr_data, :q2, :q2_days, 30) |>\n",
    "      sort(_, [:cbop, :pracuj], rev = true) |>\n",
    "      groupby(_, [:size2]) |> \n",
    "      combine(_, :count => (x -> (x[1]+x[2])*(x[1]+x[3])/x[1] ))   |>\n",
    "    latexify(_; env=:table, latex=false, adjustment = :r, fmt = \"%.f\")|> println\n",
    "\n",
    "@pipe create_data(cr_data, :q3, :q3_days, 30) |>\n",
    "      sort(_, [:cbop, :pracuj], rev = true) |>\n",
    "      groupby(_, [:size2]) |> \n",
    "      combine(_, :count => (x -> (x[1]+x[2])*(x[1]+x[3])/x[1] ))   |>\n",
    "    latexify(_; env=:table, latex=false, adjustment = :r, fmt = \"%.f\")|> println\n",
    "\n",
    "@pipe create_data(cr_data, :q4, :q4_days, 30) |>\n",
    "      sort(_, [:cbop, :pracuj], rev = true) |>\n",
    "      groupby(_, [:size2]) |> \n",
    "      combine(_, :count => (x -> (x[1]+x[2])*(x[1]+x[3])/x[1] ))   |>\n",
    "    latexify(_; env=:table, latex=false, adjustment = :r, fmt = \"%.f\")|> println\n"
   ]
  },
  {
   "cell_type": "markdown",
   "metadata": {},
   "source": [
    "# 3. Reporting"
   ]
  },
  {
   "cell_type": "markdown",
   "metadata": {},
   "source": [
    "## 3.1 Expected values and variances from bootstrap"
   ]
  },
  {
   "cell_type": "code",
   "execution_count": 11,
   "metadata": {
    "scrolled": true
   },
   "outputs": [
    {
     "data": {
      "text/latex": [
       "\\begin{tabular}{rrrr}\n",
       "Q1 & Q2 & Q3 & Q4\\\\\n",
       "54514.3851 & 45933.7588 & 46003.5175 & 33794.3657\\\\\n",
       "18881.1086 & 17327.2277 & 17753.8691 & 15106.9463\\\\\n",
       "0.0693 & 0.0807 & 0.0702 & 0.0761\\\\\n",
       "0.1654 & 0.1899 & 0.1809 & 0.1218\\\\\n",
       "0.0120 & 0.0163 & 0.0140 & 0.0203\\\\\n",
       "0.1844 & 0.1930 & 0.1853 & 0.1804\\\\\n",
       "\\end{tabular}\n"
      ],
      "text/plain": [
       "L\"\\begin{tabular}{rrrr}\n",
       "Q1 & Q2 & Q3 & Q4\\\\\n",
       "54514.3851 & 45933.7588 & 46003.5175 & 33794.3657\\\\\n",
       "18881.1086 & 17327.2277 & 17753.8691 & 15106.9463\\\\\n",
       "0.0693 & 0.0807 & 0.0702 & 0.0761\\\\\n",
       "0.1654 & 0.1899 & 0.1809 & 0.1218\\\\\n",
       "0.0120 & 0.0163 & 0.0140 & 0.0203\\\\\n",
       "0.1844 & 0.1930 & 0.1853 & 0.1804\\\\\n",
       "\\end{tabular}\n",
       "\""
      ]
     },
     "execution_count": 11,
     "metadata": {},
     "output_type": "execute_result"
    }
   ],
   "source": [
    "@pipe vcat(\n",
    "    mean(results_q1[3], dims = 1),\n",
    "    mean(results_q2[3], dims = 1),\n",
    "    mean(results_q3[3], dims = 1),\n",
    "    mean(results_q4[3], dims = 1)\n",
    ")  |> transpose(_) |>\n",
    "    DataFrame(_, [:Q1, :Q2, :Q3, :Q4]) |>\n",
    "    latexify(_; env=:table, latex=false, adjustment = :r, fmt = \"%.4f\")"
   ]
  },
  {
   "cell_type": "markdown",
   "metadata": {},
   "source": [
    "Expected value for $N_A+N_B=N$"
   ]
  },
  {
   "cell_type": "code",
   "execution_count": 12,
   "metadata": {},
   "outputs": [
    {
     "data": {
      "text/plain": [
       "(73395.49368444903, 63260.98648586354, 63757.38659083222, 48901.31203746904)"
      ]
     },
     "execution_count": 12,
     "metadata": {},
     "output_type": "execute_result"
    }
   ],
   "source": [
    "sum(mean(results_q1[3], dims = 1)[1:2]), \n",
    "sum(mean(results_q2[3], dims = 1)[1:2]),\n",
    "sum(mean(results_q3[3], dims = 1)[1:2]),\n",
    "sum(mean(results_q4[3], dims = 1)[1:2]) "
   ]
  },
  {
   "cell_type": "markdown",
   "metadata": {},
   "source": [
    "Standard errors based on the bootstrap"
   ]
  },
  {
   "cell_type": "code",
   "execution_count": 13,
   "metadata": {
    "scrolled": false
   },
   "outputs": [
    {
     "data": {
      "text/latex": [
       "\\begin{tabular}{rrrr}\n",
       "Q1 & Q2 & Q3 & Q4\\\\\n",
       "2633.5577 & 2238.7750 & 2290.2826 & 2378.4686\\\\\n",
       "780.6129 & 710.0805 & 744.1670 & 891.8005\\\\\n",
       "0.0054 & 0.0066 & 0.0058 & 0.0088\\\\\n",
       "0.0077 & 0.0089 & 0.0086 & 0.0081\\\\\n",
       "0.0012 & 0.0014 & 0.0013 & 0.0023\\\\\n",
       "0.0080 & 0.0083 & 0.0082 & 0.0101\\\\\n",
       "\\end{tabular}\n"
      ],
      "text/plain": [
       "L\"\\begin{tabular}{rrrr}\n",
       "Q1 & Q2 & Q3 & Q4\\\\\n",
       "2633.5577 & 2238.7750 & 2290.2826 & 2378.4686\\\\\n",
       "780.6129 & 710.0805 & 744.1670 & 891.8005\\\\\n",
       "0.0054 & 0.0066 & 0.0058 & 0.0088\\\\\n",
       "0.0077 & 0.0089 & 0.0086 & 0.0081\\\\\n",
       "0.0012 & 0.0014 & 0.0013 & 0.0023\\\\\n",
       "0.0080 & 0.0083 & 0.0082 & 0.0101\\\\\n",
       "\\end{tabular}\n",
       "\""
      ]
     },
     "execution_count": 13,
     "metadata": {},
     "output_type": "execute_result"
    }
   ],
   "source": [
    "@pipe vcat(\n",
    "    std(results_q1[3], dims = 1),\n",
    "    std(results_q2[3], dims = 1),\n",
    "    std(results_q3[3], dims = 1),\n",
    "    std(results_q4[3], dims = 1)\n",
    ")  |> transpose(_) |>\n",
    "    DataFrame(_, [:Q1, :Q2, :Q3, :Q4]) |>\n",
    "    latexify(_; env=:table, latex=false, adjustment = :r, fmt = \"%.4f\")"
   ]
  },
  {
   "cell_type": "markdown",
   "metadata": {},
   "source": [
    "Standard error for $N_A + N_B = N$"
   ]
  },
  {
   "cell_type": "code",
   "execution_count": 14,
   "metadata": {
    "scrolled": true
   },
   "outputs": [
    {
     "data": {
      "text/plain": [
       "(3369.234709781968, 2912.7351736585715, 2994.9775808165004, 3225.724010233967)"
      ]
     },
     "execution_count": 14,
     "metadata": {},
     "output_type": "execute_result"
    }
   ],
   "source": [
    "std(sum(results_q1[3][:,1:2], dims = 2)), \n",
    "std(sum(results_q2[3][:,1:2], dims = 2)),\n",
    "std(sum(results_q3[3][:,1:2], dims = 2)),\n",
    "std(sum(results_q4[3][:,1:2], dims = 2))"
   ]
  },
  {
   "cell_type": "markdown",
   "metadata": {},
   "source": [
    "## 3.2 Confidence intervals"
   ]
  },
  {
   "cell_type": "code",
   "execution_count": 15,
   "metadata": {},
   "outputs": [
    {
     "data": {
      "text/latex": [
       "\\begin{tabular}{rrrr}\n",
       "49353 & 59676 & 17351 & 20411\\\\\n",
       "41546 & 50322 & 15935 & 18719\\\\\n",
       "41515 & 50492 & 16295 & 19212\\\\\n",
       "29133 & 38456 & 13359 & 16855\\\\\n",
       "\\end{tabular}\n"
      ],
      "text/plain": [
       "L\"\\begin{tabular}{rrrr}\n",
       "49353 & 59676 & 17351 & 20411\\\\\n",
       "41546 & 50322 & 15935 & 18719\\\\\n",
       "41515 & 50492 & 16295 & 19212\\\\\n",
       "29133 & 38456 & 13359 & 16855\\\\\n",
       "\\end{tabular}\n",
       "\""
      ]
     },
     "execution_count": 15,
     "metadata": {},
     "output_type": "execute_result"
    }
   ],
   "source": [
    "expected = vcat(\n",
    "    mean(results_q1[3], dims = 1),\n",
    "    mean(results_q2[3], dims = 1),\n",
    "    mean(results_q3[3], dims = 1),\n",
    "    mean(results_q4[3], dims = 1)\n",
    ")\n",
    "\n",
    "stds = vcat(\n",
    "    std(results_q1[3], dims = 1),\n",
    "    std(results_q2[3], dims = 1),\n",
    "    std(results_q3[3], dims = 1),\n",
    "    std(results_q4[3], dims = 1)\n",
    ")\n",
    "\n",
    "zscore = quantile(Normal(), 1- 0.05/2)\n",
    "\n",
    "groupes_ci = hcat(\n",
    "    expected[:,1:2] .- zscore .* stds[:,1:2],\n",
    "    expected[:,1:2] .+ zscore .* stds[:,1:2]\n",
    "    )[:,[1,3,2,4]]\n",
    "\n",
    "latexify(groupes_ci; env=:table, latex=false, adjustment = :r, fmt = \"%.0f\")"
   ]
  },
  {
   "cell_type": "code",
   "execution_count": 16,
   "metadata": {},
   "outputs": [
    {
     "data": {
      "text/latex": [
       "\\begin{tabular}{rr}\n",
       "66704 & 80087\\\\\n",
       "57481 & 69041\\\\\n",
       "57810 & 69705\\\\\n",
       "42492 & 55311\\\\\n",
       "\\end{tabular}\n"
      ],
      "text/plain": [
       "L\"\\begin{tabular}{rr}\n",
       "66704 & 80087\\\\\n",
       "57481 & 69041\\\\\n",
       "57810 & 69705\\\\\n",
       "42492 & 55311\\\\\n",
       "\\end{tabular}\n",
       "\""
      ]
     },
     "execution_count": 16,
     "metadata": {},
     "output_type": "execute_result"
    }
   ],
   "source": [
    "total_ci = hcat(\n",
    "    sum(expected[:,1:2], dims = 2) .- zscore .* sum(stds[:,1:2], dims= 2),\n",
    "    sum(expected[:,1:2], dims = 2) .+ zscore .* sum(stds[:,1:2], dims= 2),    \n",
    ")\n",
    "latexify(total_ci; env=:table, latex=false, adjustment = :r, fmt = \"%.0f\")"
   ]
  },
  {
   "cell_type": "markdown",
   "metadata": {},
   "source": [
    "# Appendix"
   ]
  },
  {
   "cell_type": "markdown",
   "metadata": {},
   "source": [
    "## D  -- selection of stratification variables"
   ]
  },
  {
   "cell_type": "code",
   "execution_count": 17,
   "metadata": {},
   "outputs": [
    {
     "ename": "LoadError",
     "evalue": "DomainError with -1.404457150229961e10:\nsqrt will only return a complex result if called with a complex argument. Try sqrt(Complex(x)).",
     "output_type": "error",
     "traceback": [
      "DomainError with -1.404457150229961e10:\nsqrt will only return a complex result if called with a complex argument. Try sqrt(Complex(x)).",
      "",
      "Stacktrace:",
      "  [1] throw_complex_domainerror(f::Symbol, x::Float64)",
      "    @ Base.Math ./math.jl:33",
      "  [2] sqrt",
      "    @ ./math.jl:582 [inlined]",
      "  [3] _broadcast_getindex_evalf",
      "    @ ./broadcast.jl:648 [inlined]",
      "  [4] _broadcast_getindex",
      "    @ ./broadcast.jl:621 [inlined]",
      "  [5] getindex",
      "    @ ./broadcast.jl:575 [inlined]",
      "  [6] macro expansion",
      "    @ ./broadcast.jl:984 [inlined]",
      "  [7] macro expansion",
      "    @ ./simdloop.jl:77 [inlined]",
      "  [8] copyto!",
      "    @ ./broadcast.jl:983 [inlined]",
      "  [9] copyto!",
      "    @ ./broadcast.jl:936 [inlined]",
      " [10] copy",
      "    @ ./broadcast.jl:908 [inlined]",
      " [11] materialize(bc::Base.Broadcast.Broadcasted{Base.Broadcast.DefaultArrayStyle{1}, Nothing, typeof(sqrt), Tuple{Vector{Float64}}})",
      "    @ Base.Broadcast ./broadcast.jl:883",
      " [12] cr_averse_analysis(data::DataFrame, quarter::Symbol, quarter_days::Symbol, days::Int64, var::Symbol, var_lev::String, bootstrap::Bool, bootstrap_samples::Int64, verbose::Bool)",
      "    @ Main ~/git/nauka/job-offers-CR/github-repo/codes/functions.jl:112",
      " [13] top-level scope",
      "    @ In[17]:20",
      " [14] eval",
      "    @ ./boot.jl:360 [inlined]",
      " [15] include_string(mapexpr::typeof(REPL.softscope), mod::Module, code::String, filename::String)",
      "    @ Base ./loading.jl:1094"
     ]
    }
   ],
   "source": [
    "## small -> M (pol. małe)\n",
    "results_q1_a1 = cr_averse_analysis(cr_data, :q1, :q1_days, 30, :size, \"M\", false, 500, false);\n",
    "results_q2_a1 = cr_averse_analysis(cr_data, :q2, :q2_days, 30, :size, \"M\", false, 500, false);\n",
    "results_q3_a1 = cr_averse_analysis(cr_data, :q3, :q3_days, 30, :size, \"M\", false, 500, false);\n",
    "results_q4_a1 = cr_averse_analysis(cr_data, :q4, :q4_days, 30, :size, \"M\", false, 500, false);\n",
    "\n",
    "## medium -> S (pol. srednie)\n",
    "results_q1_a2 = cr_averse_analysis(cr_data, :q1, :q1_days, 30, :size, \"S\", false, 500, false);\n",
    "results_q2_a2 = cr_averse_analysis(cr_data, :q2, :q2_days, 30, :size, \"S\", false, 500, false);\n",
    "results_q3_a2 = cr_averse_analysis(cr_data, :q3, :q3_days, 30, :size, \"S\", false, 500, false);\n",
    "results_q4_a2 = cr_averse_analysis(cr_data, :q4, :q4_days, 30, :size, \"S\", false, 500, false);\n",
    "\n",
    "## sector \n",
    "results_q1_a3 = cr_averse_analysis(cr_data, :q1, :q1_days, 30, :sector, 1, false, 500, false);\n",
    "results_q2_a3 = cr_averse_analysis(cr_data, :q2, :q2_days, 30, :sector, 1, false, 500, false);\n",
    "results_q3_a3 = cr_averse_analysis(cr_data, :q3, :q3_days, 30, :sector, 1, false, 500, false);\n",
    "results_q4_a3 = cr_averse_analysis(cr_data, :q4, :q4_days, 30, :sector, 1, false, 500, false);\n",
    "\n",
    "## PKD -- G (largest)\n",
    "results_q1_a4 = cr_averse_analysis(cr_data, :q1, :q1_days, 30, :pkd, \"G\", false, 500, false);\n",
    "results_q2_a4 = cr_averse_analysis(cr_data, :q2, :q2_days, 30, :pkd, \"G\", false, 500, false);\n",
    "results_q3_a4 = cr_averse_analysis(cr_data, :q3, :q3_days, 30, :pkd, \"G\", false, 500, false);\n",
    "results_q4_a4 = cr_averse_analysis(cr_data, :q4, :q4_days, 30, :pkd, \"G\", false, 500, false);\n",
    "\n",
    "## PKD -- C (second from top 3)\n",
    "results_q1_a5 = cr_averse_analysis(cr_data, :q1, :q1_days, 30, :pkd, \"C\", false, 500, false);\n",
    "results_q2_a5 = cr_averse_analysis(cr_data, :q2, :q2_days, 30, :pkd, \"C\", false, 500, false);\n",
    "results_q3_a5 = cr_averse_analysis(cr_data, :q3, :q3_days, 30, :pkd, \"C\", false, 500, false);\n",
    "results_q4_a5 = cr_averse_analysis(cr_data, :q4, :q4_days, 30, :pkd, \"C\", false, 500, false);\n",
    "\n",
    "## PKD -- M (highest on pracuj)\n",
    "results_q1_a6 = cr_averse_analysis(cr_data, :q1, :q1_days, 30, :pkd, \"M\", false, 500, false);\n",
    "results_q2_a6 = cr_averse_analysis(cr_data, :q2, :q2_days, 30, :pkd, \"M\", false, 500, false);\n",
    "results_q3_a6 = cr_averse_analysis(cr_data, :q3, :q3_days, 30, :pkd, \"M\", false, 500, false);\n",
    "results_q4_a6 = cr_averse_analysis(cr_data, :q4, :q4_days, 30, :pkd, \"M\", false, 500, false);\n",
    "\n",
    "## PKD -- M (highest on pracuj)\n",
    "results_q1_a7 = cr_averse_analysis(cr_data, :q1, :q1_days, 30, :pkd, \"I\", false, 500, false);\n",
    "results_q2_a7 = cr_averse_analysis(cr_data, :q2, :q2_days, 30, :pkd, \"I\", false, 500, false);\n",
    "results_q3_a7 = cr_averse_analysis(cr_data, :q3, :q3_days, 30, :pkd, \"I\", false, 500, false);\n",
    "results_q4_a7 = cr_averse_analysis(cr_data, :q4, :q4_days, 30, :pkd, \"I\", false, 500, false);\n",
    "\n",
    "## woj -- 14 (where the capital is located)\n",
    "results_q1_a8 = cr_averse_analysis(cr_data, :q1, :q1_days, 30, :woj, 14, false, 500, false);\n",
    "results_q2_a8 = cr_averse_analysis(cr_data, :q2, :q2_days, 30, :woj, 14, false, 500, false);\n",
    "results_q3_a8 = cr_averse_analysis(cr_data, :q3, :q3_days, 30, :woj, 14, false, 500, false);\n",
    "results_q4_a8 = cr_averse_analysis(cr_data, :q4, :q4_days, 30, :woj, 14, false, 500, false);"
   ]
  },
  {
   "cell_type": "code",
   "execution_count": 79,
   "metadata": {},
   "outputs": [
    {
     "data": {
      "text/latex": [
       "\\begin{tabular}{rrrr}\n",
       "99605 & 81357 & 80729 & 61077\\\\\n",
       "31141 & 31766 & 36105 & 33163\\\\\n",
       "104583 & 124812 & 97505 & 71831\\\\\n",
       "141674 & 126785 & 121292 & 95381\\\\\n",
       "19845 & 19405 & 18370 & 28239\\\\\n",
       "142199 & 122570 & 119051 & 93220\\\\\n",
       "101602 & 125072 & 81941 & 55319\\\\\n",
       "132167 & 111632 & 111428 & 91009\\\\\n",
       "\\end{tabular}\n"
      ],
      "text/plain": [
       "L\"\\begin{tabular}{rrrr}\n",
       "99605 & 81357 & 80729 & 61077\\\\\n",
       "31141 & 31766 & 36105 & 33163\\\\\n",
       "104583 & 124812 & 97505 & 71831\\\\\n",
       "141674 & 126785 & 121292 & 95381\\\\\n",
       "19845 & 19405 & 18370 & 28239\\\\\n",
       "142199 & 122570 & 119051 & 93220\\\\\n",
       "101602 & 125072 & 81941 & 55319\\\\\n",
       "132167 & 111632 & 111428 & 91009\\\\\n",
       "\\end{tabular}\n",
       "\""
      ]
     },
     "execution_count": 79,
     "metadata": {},
     "output_type": "execute_result"
    }
   ],
   "source": [
    "results_strata = map(x -> sum(x[1][1:2]), \n",
    "                         [results_q1_a1, results_q2_a1, results_q3_a1, results_q4_a1,\n",
    "                          results_q1_a2, results_q2_a2, results_q3_a2, results_q4_a2,\n",
    "                          results_q1_a3, results_q2_a3, results_q3_a3, results_q4_a3,\n",
    "                          results_q1_a4, results_q2_a4, results_q3_a4, results_q4_a4,\n",
    "                          results_q1_a5, results_q2_a5, results_q3_a5, results_q4_a5,\n",
    "                          results_q1_a6, results_q2_a6, results_q3_a6, results_q4_a6,\n",
    "                          results_q1_a7, results_q2_a7, results_q3_a7, results_q4_a7,\n",
    "                          results_q1_a8, results_q2_a8, results_q3_a8, results_q4_a8])\n",
    "\n",
    "results_strata_res = reshape(results_strata, 4, 8)'\n",
    "\n",
    "latexify(results_strata_res; env=:table, latex=false, adjustment = :r, fmt = \"%.0f\")"
   ]
  },
  {
   "cell_type": "markdown",
   "metadata": {},
   "source": [
    "Loop over NACE levels  -- only for q1 becuase for other quarters data is to sparse"
   ]
  },
  {
   "cell_type": "code",
   "execution_count": 138,
   "metadata": {},
   "outputs": [
    {
     "data": {
      "text/plain": [
       "19-element Vector{Float64}:\n",
       " 112267.1283880904\n",
       " 102644.86786560943\n",
       "  19844.898254177315\n",
       " 153228.71670775797\n",
       "  79814.68255102547\n",
       " 135666.00366553615\n",
       " 141673.9602137246\n",
       " 134686.73749203858\n",
       " 101602.15849559402\n",
       " 145546.05444026727\n",
       " 153462.37179220864\n",
       " 152272.13559644777\n",
       " 142198.98112161297\n",
       "  22907.517558473708\n",
       " 129977.60653657423\n",
       " 149284.6095797069\n",
       " 116836.82735852922\n",
       " 121361.28144263117\n",
       " 123765.07486925594"
      ]
     },
     "execution_count": 138,
     "metadata": {},
     "output_type": "execute_result"
    }
   ],
   "source": [
    "results_nace = Float64[]\n",
    "\n",
    "for lev in sort(unique(cr_data.pkd))\n",
    "    nace_lev = cr_averse_analysis(cr_data, :q1, :q1_days, 30, :pkd, lev, false, 500, false);\n",
    "    append!(results_nace, sum(nace_lev[1][1:2]))\n",
    "end\n",
    "\n",
    "results_nace"
   ]
  },
  {
   "cell_type": "markdown",
   "metadata": {},
   "source": [
    "Loop over WOJ levels "
   ]
  },
  {
   "cell_type": "code",
   "execution_count": 152,
   "metadata": {},
   "outputs": [
    {
     "data": {
      "text/plain": [
       "16×4 Matrix{Float64}:\n",
       " 127.563    33.0676   61.1725  31.3906\n",
       "  93.5114   72.9935   75.0192  74.004\n",
       " 150.748   115.817    90.0773  85.3805\n",
       "  98.1754   98.2765   83.7968  92.4203\n",
       "  77.8125  121.895   107.977   70.9222\n",
       " 151.918   130.824   124.369   98.9592\n",
       " 132.167   111.632   111.428   91.0086\n",
       "  79.4915   79.8815   75.1014  71.315\n",
       "  87.6543   71.2824   87.7866  68.1609\n",
       "  90.496    76.4548  108.222   82.4273\n",
       " 153.253   126.138   119.465   65.3645\n",
       " 122.791   120.479   114.304   92.7219\n",
       "  95.0892   83.8569  108.671   65.7334\n",
       "  72.8086   93.3758  101.735   43.5122\n",
       " 148.395   130.869   125.79    98.6008\n",
       "  96.8934  117.876    90.7329  96.4235"
      ]
     },
     "execution_count": 152,
     "metadata": {},
     "output_type": "execute_result"
    }
   ],
   "source": [
    "results_woj = Float64[]\n",
    "\n",
    "for lev in sort(unique(cr_data.woj))\n",
    "    woj_lev = cr_averse_analysis(cr_data, :q1, :q1_days, 30, :woj, lev, false, 500, false);\n",
    "    append!(results_woj, sum(woj_lev[1][1:2]))\n",
    "    woj_lev = cr_averse_analysis(cr_data, :q2, :q2_days, 30, :woj, lev, false, 500, false);\n",
    "    append!(results_woj, sum(woj_lev[1][1:2]))\n",
    "    woj_lev = cr_averse_analysis(cr_data, :q3, :q3_days, 30, :woj, lev, false, 500, false);\n",
    "    append!(results_woj, sum(woj_lev[1][1:2]))\n",
    "    woj_lev = cr_averse_analysis(cr_data, :q4, :q4_days, 30, :woj, lev, false, 500, false);\n",
    "    append!(results_woj, sum(woj_lev[1][1:2]))    \n",
    "end\n",
    "\n",
    "results_woj_res = reshape(results_woj, 4, 16)'\n",
    "\n",
    "results_woj_res ./ 1000"
   ]
  }
 ],
 "metadata": {
  "kernelspec": {
   "display_name": "Julia 1.6.0",
   "language": "julia",
   "name": "julia-1.6"
  },
  "language_info": {
   "file_extension": ".jl",
   "mimetype": "application/julia",
   "name": "julia",
   "version": "1.6.2"
  }
 },
 "nbformat": 4,
 "nbformat_minor": 4
}
