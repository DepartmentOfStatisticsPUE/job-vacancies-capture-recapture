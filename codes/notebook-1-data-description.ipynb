{
 "cells": [
  {
   "cell_type": "markdown",
   "metadata": {},
   "source": [
    "## Load required packages"
   ]
  },
  {
   "cell_type": "code",
   "execution_count": 1,
   "metadata": {
    "scrolled": true
   },
   "outputs": [],
   "source": [
    "using DataFrames\n",
    "using CSV\n",
    "using Latexify\n",
    "using Pipe\n",
    "using ZipFile"
   ]
  },
  {
   "cell_type": "markdown",
   "metadata": {},
   "source": [
    "Setting for printing"
   ]
  },
  {
   "cell_type": "code",
   "execution_count": 2,
   "metadata": {
    "scrolled": true
   },
   "outputs": [
    {
     "data": {
      "text/plain": [
       "40"
      ]
     },
     "execution_count": 2,
     "metadata": {},
     "output_type": "execute_result"
    }
   ],
   "source": [
    "ENV[\"COLUMNS\"]=500\n",
    "ENV[\"LINES\"]= 40"
   ]
  },
  {
   "cell_type": "markdown",
   "metadata": {},
   "source": [
    "## Load data"
   ]
  },
  {
   "cell_type": "code",
   "execution_count": 3,
   "metadata": {},
   "outputs": [
    {
     "data": {
      "text/html": [
       "<table class=\"data-frame\"><thead><tr><th></th><th>id_unit</th><th>id_ad</th><th>date_start</th><th>date_end</th><th>date_arch</th><th>vacancies</th><th>q1</th><th>q2</th><th>q3</th><th>q4</th><th>q1_days</th><th>q2_days</th><th>q3_days</th><th>q4_days</th><th>woj</th><th>pkd</th><th>size</th><th>sector</th><th>source</th></tr><tr><th></th><th>String</th><th>String</th><th>Date…</th><th>Date…</th><th>Date…?</th><th>Int64</th><th>Bool</th><th>Bool</th><th>Bool</th><th>Bool</th><th>Int64?</th><th>Int64?</th><th>Int64?</th><th>Int64?</th><th>Int64</th><th>String</th><th>String</th><th>Int64</th><th>String</th></tr></thead><tbody><p>10 rows × 19 columns</p><tr><th>1</th><td>1b4701354603e4f186a443940768aecf1e38d65c</td><td>b88aaaf7d35782005f90dc1c9d2dc0dc27902285</td><td>2018-03-21</td><td>2018-04-03</td><td>2018-04-04</td><td>1</td><td>1</td><td>0</td><td>0</td><td>0</td><td>10</td><td><em>missing</em></td><td><em>missing</em></td><td><em>missing</em></td><td>8</td><td>R</td><td>S</td><td>1</td><td>cbop</td></tr><tr><th>2</th><td>32f40ce1c624214de376f791a6e0e365c5cdeea6</td><td>da840976961bcf05d9b670fbf9063a8e9e76277c</td><td>2018-11-21</td><td>2019-01-07</td><td>2019-01-07</td><td>1</td><td>0</td><td>0</td><td>0</td><td>1</td><td><em>missing</em></td><td><em>missing</em></td><td><em>missing</em></td><td>40</td><td>12</td><td>A</td><td>D</td><td>1</td><td>cbop</td></tr><tr><th>3</th><td>623fa6eee4d0e31cf1db41724d4630ae35f8cec0</td><td>ed5193dabf23fe46eeee8df4aa532ef6c958831a</td><td>2018-03-15</td><td>2018-04-11</td><td>2018-04-11</td><td>1</td><td>1</td><td>0</td><td>0</td><td>0</td><td>16</td><td><em>missing</em></td><td><em>missing</em></td><td><em>missing</em></td><td>30</td><td>P</td><td>D</td><td>1</td><td>cbop</td></tr><tr><th>4</th><td>623fa6eee4d0e31cf1db41724d4630ae35f8cec0</td><td>282a00d492521b2f522d5e54cc0e4d9ee885e2cd</td><td>2018-03-16</td><td>2018-04-13</td><td>2018-04-10</td><td>1</td><td>1</td><td>0</td><td>0</td><td>0</td><td>15</td><td><em>missing</em></td><td><em>missing</em></td><td><em>missing</em></td><td>30</td><td>P</td><td>D</td><td>1</td><td>cbop</td></tr><tr><th>5</th><td>623fa6eee4d0e31cf1db41724d4630ae35f8cec0</td><td>7cd7a9ec93f21cdc3028f6ae67c49e484a47d8a1</td><td>2018-03-12</td><td>2018-04-30</td><td>2018-04-23</td><td>1</td><td>1</td><td>0</td><td>0</td><td>0</td><td>19</td><td><em>missing</em></td><td><em>missing</em></td><td><em>missing</em></td><td>30</td><td>P</td><td>D</td><td>1</td><td>cbop</td></tr><tr><th>6</th><td>dd6e32263037e81f124a256869cf48ea319c0e22</td><td>3319f8670628fc65269b4450df964c260a1e3d63</td><td>2018-03-28</td><td>2018-04-15</td><td>2018-04-15</td><td>1</td><td>1</td><td>0</td><td>0</td><td>0</td><td>3</td><td><em>missing</em></td><td><em>missing</em></td><td><em>missing</em></td><td>2</td><td>P</td><td>D</td><td>1</td><td>cbop</td></tr><tr><th>7</th><td>dd6e32263037e81f124a256869cf48ea319c0e22</td><td>dfda7d3be12c076c80b897e9b0831d2f6005c543</td><td>2018-03-28</td><td>2018-04-15</td><td>2018-04-15</td><td>1</td><td>1</td><td>0</td><td>0</td><td>0</td><td>3</td><td><em>missing</em></td><td><em>missing</em></td><td><em>missing</em></td><td>2</td><td>P</td><td>D</td><td>1</td><td>cbop</td></tr><tr><th>8</th><td>d0d15c10127d71d32a3b95ef50bb039cbe1c2293</td><td>675f6a2198d30f6529b577000e73f61178d96109</td><td>2018-06-26</td><td>2018-07-25</td><td>2018-07-25</td><td>1</td><td>0</td><td>1</td><td>0</td><td>0</td><td><em>missing</em></td><td>4</td><td><em>missing</em></td><td><em>missing</em></td><td>22</td><td>P</td><td>D</td><td>1</td><td>cbop</td></tr><tr><th>9</th><td>d0d15c10127d71d32a3b95ef50bb039cbe1c2293</td><td>ce0a2b7a25685691885dc8582ec05be61f7e2712</td><td>2018-06-26</td><td>2018-07-25</td><td>2018-07-25</td><td>1</td><td>0</td><td>1</td><td>0</td><td>0</td><td><em>missing</em></td><td>4</td><td><em>missing</em></td><td><em>missing</em></td><td>22</td><td>P</td><td>D</td><td>1</td><td>cbop</td></tr><tr><th>10</th><td>50e8eda324cd3e775e85f455c753bf7b929860c7</td><td>15a147c9eca85e103cc19db267ac589e97185ba2</td><td>2018-03-30</td><td>2018-04-10</td><td>2018-04-03</td><td>1</td><td>1</td><td>0</td><td>0</td><td>0</td><td>1</td><td><em>missing</em></td><td><em>missing</em></td><td><em>missing</em></td><td>6</td><td>P</td><td>D</td><td>1</td><td>cbop</td></tr></tbody></table>"
      ],
      "text/latex": [
       "\\begin{tabular}{r|ccccccccccccccccccc}\n",
       "\t& id\\_unit & id\\_ad & date\\_start & date\\_end & date\\_arch & vacancies & q1 & q2 & q3 & q4 & q1\\_days & q2\\_days & q3\\_days & q4\\_days & woj & pkd & size & sector & source\\\\\n",
       "\t\\hline\n",
       "\t& String & String & Date… & Date… & Date…? & Int64 & Bool & Bool & Bool & Bool & Int64? & Int64? & Int64? & Int64? & Int64 & String & String & Int64 & String\\\\\n",
       "\t\\hline\n",
       "\t1 & 1b4701354603e4f186a443940768aecf1e38d65c & b88aaaf7d35782005f90dc1c9d2dc0dc27902285 & 2018-03-21 & 2018-04-03 & 2018-04-04 & 1 & 1 & 0 & 0 & 0 & 10 & \\emph{missing} & \\emph{missing} & \\emph{missing} & 8 & R & S & 1 & cbop \\\\\n",
       "\t2 & 32f40ce1c624214de376f791a6e0e365c5cdeea6 & da840976961bcf05d9b670fbf9063a8e9e76277c & 2018-11-21 & 2019-01-07 & 2019-01-07 & 1 & 0 & 0 & 0 & 1 & \\emph{missing} & \\emph{missing} & \\emph{missing} & 40 & 12 & A & D & 1 & cbop \\\\\n",
       "\t3 & 623fa6eee4d0e31cf1db41724d4630ae35f8cec0 & ed5193dabf23fe46eeee8df4aa532ef6c958831a & 2018-03-15 & 2018-04-11 & 2018-04-11 & 1 & 1 & 0 & 0 & 0 & 16 & \\emph{missing} & \\emph{missing} & \\emph{missing} & 30 & P & D & 1 & cbop \\\\\n",
       "\t4 & 623fa6eee4d0e31cf1db41724d4630ae35f8cec0 & 282a00d492521b2f522d5e54cc0e4d9ee885e2cd & 2018-03-16 & 2018-04-13 & 2018-04-10 & 1 & 1 & 0 & 0 & 0 & 15 & \\emph{missing} & \\emph{missing} & \\emph{missing} & 30 & P & D & 1 & cbop \\\\\n",
       "\t5 & 623fa6eee4d0e31cf1db41724d4630ae35f8cec0 & 7cd7a9ec93f21cdc3028f6ae67c49e484a47d8a1 & 2018-03-12 & 2018-04-30 & 2018-04-23 & 1 & 1 & 0 & 0 & 0 & 19 & \\emph{missing} & \\emph{missing} & \\emph{missing} & 30 & P & D & 1 & cbop \\\\\n",
       "\t6 & dd6e32263037e81f124a256869cf48ea319c0e22 & 3319f8670628fc65269b4450df964c260a1e3d63 & 2018-03-28 & 2018-04-15 & 2018-04-15 & 1 & 1 & 0 & 0 & 0 & 3 & \\emph{missing} & \\emph{missing} & \\emph{missing} & 2 & P & D & 1 & cbop \\\\\n",
       "\t7 & dd6e32263037e81f124a256869cf48ea319c0e22 & dfda7d3be12c076c80b897e9b0831d2f6005c543 & 2018-03-28 & 2018-04-15 & 2018-04-15 & 1 & 1 & 0 & 0 & 0 & 3 & \\emph{missing} & \\emph{missing} & \\emph{missing} & 2 & P & D & 1 & cbop \\\\\n",
       "\t8 & d0d15c10127d71d32a3b95ef50bb039cbe1c2293 & 675f6a2198d30f6529b577000e73f61178d96109 & 2018-06-26 & 2018-07-25 & 2018-07-25 & 1 & 0 & 1 & 0 & 0 & \\emph{missing} & 4 & \\emph{missing} & \\emph{missing} & 22 & P & D & 1 & cbop \\\\\n",
       "\t9 & d0d15c10127d71d32a3b95ef50bb039cbe1c2293 & ce0a2b7a25685691885dc8582ec05be61f7e2712 & 2018-06-26 & 2018-07-25 & 2018-07-25 & 1 & 0 & 1 & 0 & 0 & \\emph{missing} & 4 & \\emph{missing} & \\emph{missing} & 22 & P & D & 1 & cbop \\\\\n",
       "\t10 & 50e8eda324cd3e775e85f455c753bf7b929860c7 & 15a147c9eca85e103cc19db267ac589e97185ba2 & 2018-03-30 & 2018-04-10 & 2018-04-03 & 1 & 1 & 0 & 0 & 0 & 1 & \\emph{missing} & \\emph{missing} & \\emph{missing} & 6 & P & D & 1 & cbop \\\\\n",
       "\\end{tabular}\n"
      ],
      "text/plain": [
       "\u001b[1m10×19 DataFrame\u001b[0m\n",
       "\u001b[1m Row \u001b[0m│\u001b[1m id_unit                           \u001b[0m\u001b[1m id_ad                             \u001b[0m\u001b[1m date_start \u001b[0m\u001b[1m date_end   \u001b[0m\u001b[1m date_arch  \u001b[0m\u001b[1m vacancies \u001b[0m\u001b[1m q1    \u001b[0m\u001b[1m q2    \u001b[0m\u001b[1m q3    \u001b[0m\u001b[1m q4    \u001b[0m\u001b[1m q1_days \u001b[0m\u001b[1m q2_days \u001b[0m\u001b[1m q3_days \u001b[0m\u001b[1m q4_days \u001b[0m\u001b[1m woj   \u001b[0m\u001b[1m pkd    \u001b[0m\u001b[1m size   \u001b[0m\u001b[1m sector \u001b[0m\u001b[1m source \u001b[0m\n",
       "\u001b[1m     \u001b[0m│\u001b[90m String                            \u001b[0m\u001b[90m String                            \u001b[0m\u001b[90m Dates.Date \u001b[0m\u001b[90m Dates.Date \u001b[0m\u001b[90m Date…?     \u001b[0m\u001b[90m Int64     \u001b[0m\u001b[90m Bool  \u001b[0m\u001b[90m Bool  \u001b[0m\u001b[90m Bool  \u001b[0m\u001b[90m Bool  \u001b[0m\u001b[90m Int64?  \u001b[0m\u001b[90m Int64?  \u001b[0m\u001b[90m Int64?  \u001b[0m\u001b[90m Int64?  \u001b[0m\u001b[90m Int64 \u001b[0m\u001b[90m String \u001b[0m\u001b[90m String \u001b[0m\u001b[90m Int64  \u001b[0m\u001b[90m String \u001b[0m\n",
       "─────┼────────────────────────────────────────────────────────────────────────────────────────────────────────────────────────────────────────────────────────────────────────────────────────────────────────────────────────────\n",
       "   1 │ 1b4701354603e4f186a443940768aecf…  b88aaaf7d35782005f90dc1c9d2dc0dc…  2018-03-21  2018-04-03  2018-04-04          1   true  false  false  false       10 \u001b[90m missing \u001b[0m\u001b[90m missing \u001b[0m\u001b[90m missing \u001b[0m     8  R       S            1  cbop\n",
       "   2 │ 32f40ce1c624214de376f791a6e0e365…  da840976961bcf05d9b670fbf9063a8e…  2018-11-21  2019-01-07  2019-01-07          1  false  false  false   true \u001b[90m missing \u001b[0m\u001b[90m missing \u001b[0m\u001b[90m missing \u001b[0m      40     12  A       D            1  cbop\n",
       "   3 │ 623fa6eee4d0e31cf1db41724d4630ae…  ed5193dabf23fe46eeee8df4aa532ef6…  2018-03-15  2018-04-11  2018-04-11          1   true  false  false  false       16 \u001b[90m missing \u001b[0m\u001b[90m missing \u001b[0m\u001b[90m missing \u001b[0m    30  P       D            1  cbop\n",
       "   4 │ 623fa6eee4d0e31cf1db41724d4630ae…  282a00d492521b2f522d5e54cc0e4d9e…  2018-03-16  2018-04-13  2018-04-10          1   true  false  false  false       15 \u001b[90m missing \u001b[0m\u001b[90m missing \u001b[0m\u001b[90m missing \u001b[0m    30  P       D            1  cbop\n",
       "   5 │ 623fa6eee4d0e31cf1db41724d4630ae…  7cd7a9ec93f21cdc3028f6ae67c49e48…  2018-03-12  2018-04-30  2018-04-23          1   true  false  false  false       19 \u001b[90m missing \u001b[0m\u001b[90m missing \u001b[0m\u001b[90m missing \u001b[0m    30  P       D            1  cbop\n",
       "   6 │ dd6e32263037e81f124a256869cf48ea…  3319f8670628fc65269b4450df964c26…  2018-03-28  2018-04-15  2018-04-15          1   true  false  false  false        3 \u001b[90m missing \u001b[0m\u001b[90m missing \u001b[0m\u001b[90m missing \u001b[0m     2  P       D            1  cbop\n",
       "   7 │ dd6e32263037e81f124a256869cf48ea…  dfda7d3be12c076c80b897e9b0831d2f…  2018-03-28  2018-04-15  2018-04-15          1   true  false  false  false        3 \u001b[90m missing \u001b[0m\u001b[90m missing \u001b[0m\u001b[90m missing \u001b[0m     2  P       D            1  cbop\n",
       "   8 │ d0d15c10127d71d32a3b95ef50bb039c…  675f6a2198d30f6529b577000e73f611…  2018-06-26  2018-07-25  2018-07-25          1  false   true  false  false \u001b[90m missing \u001b[0m       4 \u001b[90m missing \u001b[0m\u001b[90m missing \u001b[0m    22  P       D            1  cbop\n",
       "   9 │ d0d15c10127d71d32a3b95ef50bb039c…  ce0a2b7a25685691885dc8582ec05be6…  2018-06-26  2018-07-25  2018-07-25          1  false   true  false  false \u001b[90m missing \u001b[0m       4 \u001b[90m missing \u001b[0m\u001b[90m missing \u001b[0m    22  P       D            1  cbop\n",
       "  10 │ 50e8eda324cd3e775e85f455c753bf7b…  15a147c9eca85e103cc19db267ac589e…  2018-03-30  2018-04-10  2018-04-03          1   true  false  false  false        1 \u001b[90m missing \u001b[0m\u001b[90m missing \u001b[0m\u001b[90m missing \u001b[0m     6  P       D            1  cbop"
      ]
     },
     "execution_count": 3,
     "metadata": {},
     "output_type": "execute_result"
    }
   ],
   "source": [
    "z = ZipFile.Reader(\"../data/data-for-capture-recapture.csv.zip\") \n",
    "a_file_in_zip = filter(x -> x.name == \"data-for-capture-recapture.csv\", z.files)[1]\n",
    "cr_data = CSV.read(a_file_in_zip, DataFrame) \n",
    "first(cr_data, 10)"
   ]
  },
  {
   "cell_type": "markdown",
   "metadata": {},
   "source": [
    "### Statistics for results\n",
    "\n",
    "Statistics for table `Distribution of auxiliary variables in sampling frame and units identified in non-probability sources (pooled data)`"
   ]
  },
  {
   "cell_type": "code",
   "execution_count": 5,
   "metadata": {},
   "outputs": [
    {
     "data": {
      "text/html": [
       "<table class=\"data-frame\"><thead><tr><th></th><th>source</th><th>sector</th><th>count</th><th>p</th></tr><tr><th></th><th>String</th><th>Int64</th><th>Float64</th><th>Float64</th></tr></thead><tbody><p>4 rows × 4 columns</p><tr><th>1</th><td>cbop</td><td>1</td><td>4.7</td><td>11.8</td></tr><tr><th>2</th><td>cbop</td><td>2</td><td>35.2</td><td>88.2</td></tr><tr><th>3</th><td>pracuj</td><td>1</td><td>0.6</td><td>3.7</td></tr><tr><th>4</th><td>pracuj</td><td>2</td><td>15.8</td><td>96.3</td></tr></tbody></table>"
      ],
      "text/latex": [
       "\\begin{tabular}{r|cccc}\n",
       "\t& source & sector & count & p\\\\\n",
       "\t\\hline\n",
       "\t& String & Int64 & Float64 & Float64\\\\\n",
       "\t\\hline\n",
       "\t1 & cbop & 1 & 4.7 & 11.8 \\\\\n",
       "\t2 & cbop & 2 & 35.2 & 88.2 \\\\\n",
       "\t3 & pracuj & 1 & 0.6 & 3.7 \\\\\n",
       "\t4 & pracuj & 2 & 15.8 & 96.3 \\\\\n",
       "\\end{tabular}\n"
      ],
      "text/plain": [
       "\u001b[1m4×4 DataFrame\u001b[0m\n",
       "\u001b[1m Row \u001b[0m│\u001b[1m source \u001b[0m\u001b[1m sector \u001b[0m\u001b[1m count   \u001b[0m\u001b[1m p       \u001b[0m\n",
       "\u001b[1m     \u001b[0m│\u001b[90m String \u001b[0m\u001b[90m Int64  \u001b[0m\u001b[90m Float64 \u001b[0m\u001b[90m Float64 \u001b[0m\n",
       "─────┼──────────────────────────────────\n",
       "   1 │ cbop         1      4.7     11.8\n",
       "   2 │ cbop         2     35.2     88.2\n",
       "   3 │ pracuj       1      0.6      3.7\n",
       "   4 │ pracuj       2     15.8     96.3"
      ]
     },
     "execution_count": 5,
     "metadata": {},
     "output_type": "execute_result"
    }
   ],
   "source": [
    "@pipe cr_data |> \n",
    "    unique(_, [:id_unit, :source, :sector]) |>\n",
    "    groupby(_, [:source, :sector]) |> \n",
    "    combine(_, nrow => :count) |> \n",
    "    transform(_, :count => (x -> round.(x/1000, digits =1)) => :count) |>\n",
    "    groupby(_, [:source]) |>\n",
    "    transform(_, :count => sum => :total) |>\n",
    "    transform(_, [:count, :total] => ByRow((x,y) -> round(x/y*100, digits = 1)) => :p) |>\n",
    "    select(_,Not(:total)) "
   ]
  },
  {
   "cell_type": "code",
   "execution_count": 6,
   "metadata": {},
   "outputs": [
    {
     "data": {
      "text/html": [
       "<table class=\"data-frame\"><thead><tr><th></th><th>source</th><th>size</th><th>count</th><th>p</th></tr><tr><th></th><th>String</th><th>String</th><th>Float64</th><th>Float64</th></tr></thead><tbody><p>6 rows × 4 columns</p><tr><th>1</th><td>cbop</td><td>D</td><td>8.4</td><td>21.1</td></tr><tr><th>2</th><td>cbop</td><td>M</td><td>18.1</td><td>45.4</td></tr><tr><th>3</th><td>cbop</td><td>S</td><td>13.4</td><td>33.6</td></tr><tr><th>4</th><td>pracuj</td><td>D</td><td>7.0</td><td>42.7</td></tr><tr><th>5</th><td>pracuj</td><td>M</td><td>4.0</td><td>24.4</td></tr><tr><th>6</th><td>pracuj</td><td>S</td><td>5.4</td><td>32.9</td></tr></tbody></table>"
      ],
      "text/latex": [
       "\\begin{tabular}{r|cccc}\n",
       "\t& source & size & count & p\\\\\n",
       "\t\\hline\n",
       "\t& String & String & Float64 & Float64\\\\\n",
       "\t\\hline\n",
       "\t1 & cbop & D & 8.4 & 21.1 \\\\\n",
       "\t2 & cbop & M & 18.1 & 45.4 \\\\\n",
       "\t3 & cbop & S & 13.4 & 33.6 \\\\\n",
       "\t4 & pracuj & D & 7.0 & 42.7 \\\\\n",
       "\t5 & pracuj & M & 4.0 & 24.4 \\\\\n",
       "\t6 & pracuj & S & 5.4 & 32.9 \\\\\n",
       "\\end{tabular}\n"
      ],
      "text/plain": [
       "\u001b[1m6×4 DataFrame\u001b[0m\n",
       "\u001b[1m Row \u001b[0m│\u001b[1m source \u001b[0m\u001b[1m size   \u001b[0m\u001b[1m count   \u001b[0m\u001b[1m p       \u001b[0m\n",
       "\u001b[1m     \u001b[0m│\u001b[90m String \u001b[0m\u001b[90m String \u001b[0m\u001b[90m Float64 \u001b[0m\u001b[90m Float64 \u001b[0m\n",
       "─────┼──────────────────────────────────\n",
       "   1 │ cbop    D           8.4     21.1\n",
       "   2 │ cbop    M          18.1     45.4\n",
       "   3 │ cbop    S          13.4     33.6\n",
       "   4 │ pracuj  D           7.0     42.7\n",
       "   5 │ pracuj  M           4.0     24.4\n",
       "   6 │ pracuj  S           5.4     32.9"
      ]
     },
     "execution_count": 6,
     "metadata": {},
     "output_type": "execute_result"
    }
   ],
   "source": [
    "## d-> big, s-> medium, \n",
    "@pipe cr_data |> \n",
    "    unique(_, [:id_unit, :source, :size]) |>\n",
    "    groupby(_, [:source, :size]) |> \n",
    "    combine(_, nrow => :count) |> \n",
    "    transform(_, :count => (x -> round.(x/1000, digits =1)) => :count) |>\n",
    "    groupby(_, [:source]) |>\n",
    "    transform(_, :count => sum => :total) |>\n",
    "    transform(_, [:count, :total] => ByRow((x,y) -> round(x/y*100, digits = 1)) => :p) |>\n",
    "    select(_,Not(:total)) |> \n",
    "    sort(_, [:source, :size])"
   ]
  },
  {
   "cell_type": "code",
   "execution_count": 7,
   "metadata": {},
   "outputs": [
    {
     "data": {
      "text/html": [
       "<table class=\"data-frame\"><thead><tr><th></th><th>source</th><th>pkd</th><th>count</th><th>p</th></tr><tr><th></th><th>String</th><th>String</th><th>Float64</th><th>Float64</th></tr></thead><tbody><p>38 rows × 4 columns</p><tr><th>1</th><td>cbop</td><td>A</td><td>0.4</td><td>1.0</td></tr><tr><th>2</th><td>cbop</td><td>B</td><td>0.1</td><td>0.3</td></tr><tr><th>3</th><td>cbop</td><td>C</td><td>8.9</td><td>22.4</td></tr><tr><th>4</th><td>cbop</td><td>D</td><td>0.1</td><td>0.3</td></tr><tr><th>5</th><td>cbop</td><td>E</td><td>0.6</td><td>1.5</td></tr><tr><th>6</th><td>cbop</td><td>F</td><td>5.5</td><td>13.8</td></tr><tr><th>7</th><td>cbop</td><td>G</td><td>8.8</td><td>22.1</td></tr><tr><th>8</th><td>cbop</td><td>H</td><td>2.2</td><td>5.5</td></tr><tr><th>9</th><td>cbop</td><td>I</td><td>2.5</td><td>6.3</td></tr><tr><th>10</th><td>cbop</td><td>J</td><td>0.4</td><td>1.0</td></tr><tr><th>11</th><td>cbop</td><td>K</td><td>0.4</td><td>1.0</td></tr><tr><th>12</th><td>cbop</td><td>L</td><td>0.5</td><td>1.3</td></tr><tr><th>13</th><td>cbop</td><td>M</td><td>1.5</td><td>3.8</td></tr><tr><th>14</th><td>cbop</td><td>N</td><td>1.4</td><td>3.5</td></tr><tr><th>15</th><td>cbop</td><td>O</td><td>0.8</td><td>2.0</td></tr><tr><th>16</th><td>cbop</td><td>P</td><td>2.4</td><td>6.0</td></tr><tr><th>17</th><td>cbop</td><td>Q</td><td>1.9</td><td>4.8</td></tr><tr><th>18</th><td>cbop</td><td>R</td><td>0.4</td><td>1.0</td></tr><tr><th>19</th><td>cbop</td><td>S</td><td>1.0</td><td>2.5</td></tr><tr><th>20</th><td>pracuj</td><td>A</td><td>0.0</td><td>0.0</td></tr><tr><th>21</th><td>pracuj</td><td>B</td><td>0.0</td><td>0.0</td></tr><tr><th>22</th><td>pracuj</td><td>C</td><td>4.0</td><td>24.5</td></tr><tr><th>23</th><td>pracuj</td><td>D</td><td>0.1</td><td>0.6</td></tr><tr><th>24</th><td>pracuj</td><td>E</td><td>0.1</td><td>0.6</td></tr><tr><th>25</th><td>pracuj</td><td>F</td><td>1.0</td><td>6.1</td></tr><tr><th>26</th><td>pracuj</td><td>G</td><td>4.1</td><td>25.2</td></tr><tr><th>27</th><td>pracuj</td><td>H</td><td>0.8</td><td>4.9</td></tr><tr><th>28</th><td>pracuj</td><td>I</td><td>0.3</td><td>1.8</td></tr><tr><th>29</th><td>pracuj</td><td>J</td><td>1.4</td><td>8.6</td></tr><tr><th>30</th><td>pracuj</td><td>K</td><td>0.6</td><td>3.7</td></tr><tr><th>31</th><td>pracuj</td><td>L</td><td>0.4</td><td>2.5</td></tr><tr><th>32</th><td>pracuj</td><td>M</td><td>2.0</td><td>12.3</td></tr><tr><th>33</th><td>pracuj</td><td>N</td><td>0.8</td><td>4.9</td></tr><tr><th>34</th><td>pracuj</td><td>O</td><td>0.1</td><td>0.6</td></tr><tr><th>35</th><td>pracuj</td><td>P</td><td>0.2</td><td>1.2</td></tr><tr><th>36</th><td>pracuj</td><td>Q</td><td>0.2</td><td>1.2</td></tr><tr><th>37</th><td>pracuj</td><td>R</td><td>0.1</td><td>0.6</td></tr><tr><th>38</th><td>pracuj</td><td>S</td><td>0.1</td><td>0.6</td></tr></tbody></table>"
      ],
      "text/latex": [
       "\\begin{tabular}{r|cccc}\n",
       "\t& source & pkd & count & p\\\\\n",
       "\t\\hline\n",
       "\t& String & String & Float64 & Float64\\\\\n",
       "\t\\hline\n",
       "\t1 & cbop & A & 0.4 & 1.0 \\\\\n",
       "\t2 & cbop & B & 0.1 & 0.3 \\\\\n",
       "\t3 & cbop & C & 8.9 & 22.4 \\\\\n",
       "\t4 & cbop & D & 0.1 & 0.3 \\\\\n",
       "\t5 & cbop & E & 0.6 & 1.5 \\\\\n",
       "\t6 & cbop & F & 5.5 & 13.8 \\\\\n",
       "\t7 & cbop & G & 8.8 & 22.1 \\\\\n",
       "\t8 & cbop & H & 2.2 & 5.5 \\\\\n",
       "\t9 & cbop & I & 2.5 & 6.3 \\\\\n",
       "\t10 & cbop & J & 0.4 & 1.0 \\\\\n",
       "\t11 & cbop & K & 0.4 & 1.0 \\\\\n",
       "\t12 & cbop & L & 0.5 & 1.3 \\\\\n",
       "\t13 & cbop & M & 1.5 & 3.8 \\\\\n",
       "\t14 & cbop & N & 1.4 & 3.5 \\\\\n",
       "\t15 & cbop & O & 0.8 & 2.0 \\\\\n",
       "\t16 & cbop & P & 2.4 & 6.0 \\\\\n",
       "\t17 & cbop & Q & 1.9 & 4.8 \\\\\n",
       "\t18 & cbop & R & 0.4 & 1.0 \\\\\n",
       "\t19 & cbop & S & 1.0 & 2.5 \\\\\n",
       "\t20 & pracuj & A & 0.0 & 0.0 \\\\\n",
       "\t21 & pracuj & B & 0.0 & 0.0 \\\\\n",
       "\t22 & pracuj & C & 4.0 & 24.5 \\\\\n",
       "\t23 & pracuj & D & 0.1 & 0.6 \\\\\n",
       "\t24 & pracuj & E & 0.1 & 0.6 \\\\\n",
       "\t25 & pracuj & F & 1.0 & 6.1 \\\\\n",
       "\t26 & pracuj & G & 4.1 & 25.2 \\\\\n",
       "\t27 & pracuj & H & 0.8 & 4.9 \\\\\n",
       "\t28 & pracuj & I & 0.3 & 1.8 \\\\\n",
       "\t29 & pracuj & J & 1.4 & 8.6 \\\\\n",
       "\t30 & pracuj & K & 0.6 & 3.7 \\\\\n",
       "\t31 & pracuj & L & 0.4 & 2.5 \\\\\n",
       "\t32 & pracuj & M & 2.0 & 12.3 \\\\\n",
       "\t33 & pracuj & N & 0.8 & 4.9 \\\\\n",
       "\t34 & pracuj & O & 0.1 & 0.6 \\\\\n",
       "\t35 & pracuj & P & 0.2 & 1.2 \\\\\n",
       "\t36 & pracuj & Q & 0.2 & 1.2 \\\\\n",
       "\t37 & pracuj & R & 0.1 & 0.6 \\\\\n",
       "\t38 & pracuj & S & 0.1 & 0.6 \\\\\n",
       "\\end{tabular}\n"
      ],
      "text/plain": [
       "\u001b[1m38×4 DataFrame\u001b[0m\n",
       "\u001b[1m Row \u001b[0m│\u001b[1m source \u001b[0m\u001b[1m pkd    \u001b[0m\u001b[1m count   \u001b[0m\u001b[1m p       \u001b[0m\n",
       "\u001b[1m     \u001b[0m│\u001b[90m String \u001b[0m\u001b[90m String \u001b[0m\u001b[90m Float64 \u001b[0m\u001b[90m Float64 \u001b[0m\n",
       "─────┼──────────────────────────────────\n",
       "   1 │ cbop    A           0.4      1.0\n",
       "   2 │ cbop    B           0.1      0.3\n",
       "   3 │ cbop    C           8.9     22.4\n",
       "   4 │ cbop    D           0.1      0.3\n",
       "   5 │ cbop    E           0.6      1.5\n",
       "   6 │ cbop    F           5.5     13.8\n",
       "   7 │ cbop    G           8.8     22.1\n",
       "   8 │ cbop    H           2.2      5.5\n",
       "   9 │ cbop    I           2.5      6.3\n",
       "  10 │ cbop    J           0.4      1.0\n",
       "  11 │ cbop    K           0.4      1.0\n",
       "  12 │ cbop    L           0.5      1.3\n",
       "  13 │ cbop    M           1.5      3.8\n",
       "  14 │ cbop    N           1.4      3.5\n",
       "  15 │ cbop    O           0.8      2.0\n",
       "  16 │ cbop    P           2.4      6.0\n",
       "  ⋮  │   ⋮       ⋮        ⋮        ⋮\n",
       "  24 │ pracuj  E           0.1      0.6\n",
       "  25 │ pracuj  F           1.0      6.1\n",
       "  26 │ pracuj  G           4.1     25.2\n",
       "  27 │ pracuj  H           0.8      4.9\n",
       "  28 │ pracuj  I           0.3      1.8\n",
       "  29 │ pracuj  J           1.4      8.6\n",
       "  30 │ pracuj  K           0.6      3.7\n",
       "  31 │ pracuj  L           0.4      2.5\n",
       "  32 │ pracuj  M           2.0     12.3\n",
       "  33 │ pracuj  N           0.8      4.9\n",
       "  34 │ pracuj  O           0.1      0.6\n",
       "  35 │ pracuj  P           0.2      1.2\n",
       "  36 │ pracuj  Q           0.2      1.2\n",
       "  37 │ pracuj  R           0.1      0.6\n",
       "  38 │ pracuj  S           0.1      0.6\n",
       "\u001b[36m                          7 rows omitted\u001b[0m"
      ]
     },
     "execution_count": 7,
     "metadata": {},
     "output_type": "execute_result"
    }
   ],
   "source": [
    "@pipe cr_data |> \n",
    "    unique(_, [:id_unit, :source, :pkd]) |>\n",
    "    groupby(_, [:source, :pkd]) |> \n",
    "    combine(_, nrow => :count) |> \n",
    "    transform(_, :count => (x -> round.(x/1000, digits =1)) => :count) |>\n",
    "    groupby(_, [:source]) |>\n",
    "    transform(_, :count => sum => :total) |>\n",
    "    transform(_, [:count, :total] => ByRow((x,y) -> round(x/y*100, digits = 1)) => :p) |>\n",
    "    select(_,Not(:total)) |> \n",
    "    sort(_, [:source, :pkd]) "
   ]
  },
  {
   "cell_type": "markdown",
   "metadata": {},
   "source": [
    "Number records by days before end of quarter"
   ]
  },
  {
   "cell_type": "code",
   "execution_count": 8,
   "metadata": {},
   "outputs": [
    {
     "data": {
      "text/latex": [
       "\\begin{tabular}{rrr}\n",
       "value_n & cbop & pracuj\\\\\n",
       "to 10 & 24553 & 33507\\\\\n",
       "(10,20] & 23102 & 54081\\\\\n",
       "(20,30] & 14873 & 47455\\\\\n",
       "(30,60] & 14434 & 118\\\\\n",
       "(60,365] & 11041 & missing\\\\\n",
       "over year & 61 & missing\\\\\n",
       "zero & 341 & 690\\\\\n",
       "\\end{tabular}\n"
      ],
      "text/plain": [
       "L\"\\begin{tabular}{rrr}\n",
       "value_n & cbop & pracuj\\\\\n",
       "to 10 & 24553 & 33507\\\\\n",
       "(10,20] & 23102 & 54081\\\\\n",
       "(20,30] & 14873 & 47455\\\\\n",
       "(30,60] & 14434 & 118\\\\\n",
       "(60,365] & 11041 & missing\\\\\n",
       "over year & 61 & missing\\\\\n",
       "zero & 341 & 690\\\\\n",
       "\\end{tabular}\n",
       "\""
      ]
     },
     "execution_count": 8,
     "metadata": {},
     "output_type": "execute_result"
    }
   ],
   "source": [
    "@pipe cr_data |>\n",
    "    select(_, :id_ad, :source, r\"days\") |>\n",
    "    stack(_, r\"days\") |>\n",
    "    dropmissing(_) |>\n",
    "    transform(_, :value => ByRow( x -> x == 0 ? \"zero\" :\n",
    "                                       x <= 10 ? \"to 10\" :\n",
    "                                       (x > 10 && x <= 20) ? \"(10,20]\" :\n",
    "                                       (x > 20 && x <= 30) ? \"(20,30]\" :\n",
    "                                       (x > 30 && x <= 60) ? \"(30,60]\" :\n",
    "                                       (x > 60 && x <= 365) ? \"(60,365]\" :\n",
    "                                       \"over year\") => :value_n) |>\n",
    "    groupby(_, [:source, :value_n]) |>\n",
    "    combine(_, nrow => :count) |>\n",
    "    unstack(_, :value_n, :source, :count) |> \n",
    "    latexify(_; env=:table, latex=false,adjustment = :r)"
   ]
  },
  {
   "cell_type": "markdown",
   "metadata": {},
   "source": [
    "## Table for each quarter"
   ]
  },
  {
   "cell_type": "code",
   "execution_count": 9,
   "metadata": {},
   "outputs": [
    {
     "data": {
      "text/plain": [
       "create_data (generic function with 1 method)"
      ]
     },
     "execution_count": 9,
     "metadata": {},
     "output_type": "execute_result"
    }
   ],
   "source": [
    "function create_data(data, quarter::Symbol, quarter_days::Symbol, days::Int)\n",
    "    out_df = filter(quarter => ==(true), data)\n",
    "    out_df = filter(quarter_days => <=(days), out_df)\n",
    "    out_df = unique(out_df[:,[:source, :id_unit, :size]])\n",
    "    out_df[!, :n] .= 1\n",
    "    out_df = unstack(out_df, [:id_unit, :size], :source, :n)\n",
    "    out_df.cbop = coalesce.(out_df.cbop, 0)\n",
    "    out_df.pracuj = coalesce.(out_df.pracuj, 0)\n",
    "    out_df[!, :size2] .= ifelse.(out_df.size .== \"D\", \"D\", \"SM\")\n",
    "    out_df = groupby(out_df, [:size2, :cbop, :pracuj])\n",
    "    out_df = combine(out_df, nrow => :count)\n",
    "    sort!(out_df, [:size2, :cbop, :pracuj], rev = true) \n",
    "    return(out_df)\n",
    "end"
   ]
  },
  {
   "cell_type": "code",
   "execution_count": 10,
   "metadata": {
    "scrolled": false
   },
   "outputs": [
    {
     "data": {
      "text/latex": [
       "\\begin{tabular}{rrrrrrr}\n",
       "size2 & cbop & pracuj & 1 & 2 & 3 & 4\\\\\n",
       "SM & 1 & 1 & 100 & 129 & 107 & 76\\\\\n",
       "SM & 1 & 0 & 8900 & 8571 & 8199 & 4019\\\\\n",
       "SM & 0 & 1 & 3641 & 3543 & 3116 & 2795\\\\\n",
       "D & 1 & 1 & 534 & 582 & 552 & 303\\\\\n",
       "D & 1 & 0 & 2584 & 2705 & 2657 & 1528\\\\\n",
       "D & 0 & 1 & 3780 & 3608 & 3506 & 3202\\\\\n",
       "\\end{tabular}\n"
      ],
      "text/plain": [
       "L\"\\begin{tabular}{rrrrrrr}\n",
       "size2 & cbop & pracuj & 1 & 2 & 3 & 4\\\\\n",
       "SM & 1 & 1 & 100 & 129 & 107 & 76\\\\\n",
       "SM & 1 & 0 & 8900 & 8571 & 8199 & 4019\\\\\n",
       "SM & 0 & 1 & 3641 & 3543 & 3116 & 2795\\\\\n",
       "D & 1 & 1 & 534 & 582 & 552 & 303\\\\\n",
       "D & 1 & 0 & 2584 & 2705 & 2657 & 1528\\\\\n",
       "D & 0 & 1 & 3780 & 3608 & 3506 & 3202\\\\\n",
       "\\end{tabular}\n",
       "\""
      ]
     },
     "execution_count": 10,
     "metadata": {},
     "output_type": "execute_result"
    }
   ],
   "source": [
    "@pipe vcat(\n",
    "    create_data(cr_data, :q1, :q1_days, 30),\n",
    "    create_data(cr_data, :q2, :q2_days, 30), \n",
    "    create_data(cr_data, :q3, :q3_days, 30), \n",
    "    create_data(cr_data, :q4, :q4_days, 30),     \n",
    "    source = :quarter\n",
    ") |> \n",
    "    unstack(_, [:size2, :cbop, :pracuj], :quarter, :count) |> \n",
    "    latexify(_; env=:table, latex=false, adjustment = :r)"
   ]
  },
  {
   "cell_type": "code",
   "execution_count": 11,
   "metadata": {},
   "outputs": [
    {
     "data": {
      "text/latex": [
       "\\begin{tabular}{rrrrr}\n",
       "size2 & 1 & 2 & 3 & 4\\\\\n",
       "SM & 12641 & 12243 & 11422 & 6890\\\\\n",
       "D & 6898 & 6895 & 6715 & 5033\\\\\n",
       "\\end{tabular}\n"
      ],
      "text/plain": [
       "L\"\\begin{tabular}{rrrrr}\n",
       "size2 & 1 & 2 & 3 & 4\\\\\n",
       "SM & 12641 & 12243 & 11422 & 6890\\\\\n",
       "D & 6898 & 6895 & 6715 & 5033\\\\\n",
       "\\end{tabular}\n",
       "\""
      ]
     },
     "execution_count": 11,
     "metadata": {},
     "output_type": "execute_result"
    }
   ],
   "source": [
    "@pipe vcat(\n",
    "    create_data(cr_data, :q1, :q1_days, 30),\n",
    "    create_data(cr_data, :q2, :q2_days, 30), \n",
    "    create_data(cr_data, :q3, :q3_days, 30), \n",
    "    create_data(cr_data, :q4, :q4_days, 30),     \n",
    "    source = :quarter\n",
    ") |>\n",
    "    groupby(_,[:quarter,:size2]) |>\n",
    "    combine(_, :count=> sum =>:total) |>\n",
    "    unstack(_, :size2, :quarter, :total) |> \n",
    "    latexify(_; env=:table, latex=false, adjustment = :r) "
   ]
  },
  {
   "cell_type": "markdown",
   "metadata": {},
   "source": [
    "Estimated $\\hat{c}$"
   ]
  },
  {
   "cell_type": "code",
   "execution_count": 12,
   "metadata": {},
   "outputs": [
    {
     "data": {
      "text/latex": [
       "\\begin{tabular}{rrrrr}\n",
       "size2 & 1 & 2 & 3 & 4\\\\\n",
       "D & 0.1713 & 0.1771 & 0.1720 & 0.1655\\\\\n",
       "SM & 0.0111 & 0.0148 & 0.0129 & 0.0186\\\\\n",
       "\\end{tabular}\n"
      ],
      "text/plain": [
       "L\"\\begin{tabular}{rrrrr}\n",
       "size2 & 1 & 2 & 3 & 4\\\\\n",
       "D & 0.1713 & 0.1771 & 0.1720 & 0.1655\\\\\n",
       "SM & 0.0111 & 0.0148 & 0.0129 & 0.0186\\\\\n",
       "\\end{tabular}\n",
       "\""
      ]
     },
     "execution_count": 12,
     "metadata": {},
     "output_type": "execute_result"
    }
   ],
   "source": [
    "@pipe vcat(\n",
    "    create_data(cr_data, :q1, :q1_days, 30),\n",
    "    create_data(cr_data, :q2, :q2_days, 30), \n",
    "    create_data(cr_data, :q3, :q3_days, 30), \n",
    "    create_data(cr_data, :q4, :q4_days, 30),     \n",
    "    source = :quarter\n",
    ") |> \n",
    "    filter(:cbop => ==(1), _) |>\n",
    "    select(_, Not(:cbop)) |> \n",
    "    unstack(_, [:quarter, :size2], :pracuj, :count) |>\n",
    "    sort(_,[:size2, :quarter]) |>\n",
    "    transform(_, [\"1\", \"0\"] => ByRow((x, y) -> x/(x+y)) => :c) |>\n",
    "    select(_, [:size2, :quarter, :c]) |>\n",
    "    unstack(_, :size2, :quarter, :c) |> \n",
    "    latexify(_; env=:table, latex=false, adjustment = :r, fmt = \"%.4f\")"
   ]
  }
 ],
 "metadata": {
  "kernelspec": {
   "display_name": "Julia 1.6.0",
   "language": "julia",
   "name": "julia-1.6"
  },
  "language_info": {
   "file_extension": ".jl",
   "mimetype": "application/julia",
   "name": "julia",
   "version": "1.6.0"
  }
 },
 "nbformat": 4,
 "nbformat_minor": 4
}
