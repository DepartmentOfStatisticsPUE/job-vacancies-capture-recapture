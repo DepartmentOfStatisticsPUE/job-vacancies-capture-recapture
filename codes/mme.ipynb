{
 "cells": [
  {
   "cell_type": "code",
   "execution_count": 32,
   "metadata": {
    "collapsed": true
   },
   "outputs": [
    {
     "name": "stderr",
     "output_type": "stream",
     "text": [
      "\u001b[32m\u001b[1m    Updating\u001b[22m\u001b[39m registry at `~/.julia/registries/General`\n",
      "\u001b[32m\u001b[1m    Updating\u001b[22m\u001b[39m git-repo `https://github.com/JuliaRegistries/General.git`\n",
      "┌ Warning: Some registries failed to update:\n",
      "│     — /Users/berenz/.julia/registries/General — failed to fetch from repo\n",
      "└ @ Pkg.Types /Applications/Julia-1.6.app/Contents/Resources/julia/share/julia/stdlib/v1.6/Pkg/src/Types.jl:1246\n",
      "\u001b[32m\u001b[1m   Resolving\u001b[22m\u001b[39m package versions...\n",
      "\u001b[32m\u001b[1m    Updating\u001b[22m\u001b[39m `~/git/nauka/job-offers-CR/github-repo/Project.toml`\n",
      " \u001b[90m [1313f7d8] \u001b[39m\u001b[92m+ DataFramesMeta v0.10.0\u001b[39m\n",
      "\u001b[32m\u001b[1m    Updating\u001b[22m\u001b[39m `~/git/nauka/job-offers-CR/github-repo/Manifest.toml`\n",
      " \u001b[90m [8be319e6] \u001b[39m\u001b[92m+ Chain v0.4.8\u001b[39m\n",
      " \u001b[90m [1313f7d8] \u001b[39m\u001b[92m+ DataFramesMeta v0.10.0\u001b[39m\n"
     ]
    }
   ],
   "source": [
    "import Pkg; Pkg.add(\"DataFramesMeta\")"
   ]
  },
  {
   "cell_type": "code",
   "execution_count": 33,
   "metadata": {},
   "outputs": [],
   "source": [
    "using CSV\n",
    "using DataFrames\n",
    "using Pipe\n",
    "using ZipFile\n",
    "using NLsolve\n",
    "using Chain\n",
    "using DataFramesMeta"
   ]
  },
  {
   "cell_type": "code",
   "execution_count": 9,
   "metadata": {},
   "outputs": [
    {
     "data": {
      "text/plain": [
       "12"
      ]
     },
     "execution_count": 9,
     "metadata": {},
     "output_type": "execute_result"
    }
   ],
   "source": [
    "ENV[\"COLUMNS\"] = 1000\n",
    "ENV[\"LINES\"] = 12"
   ]
  },
  {
   "cell_type": "code",
   "execution_count": 10,
   "metadata": {},
   "outputs": [
    {
     "data": {
      "text/html": [
       "<div class=\"data-frame\"><p>10 rows × 19 columns</p><table class=\"data-frame\"><thead><tr><th></th><th>id_unit</th><th>id_ad</th><th>date_start</th><th>date_end</th><th>date_arch</th><th>vacancies</th><th>q1</th><th>q2</th><th>q3</th><th>q4</th><th>q1_days</th><th>q2_days</th><th>q3_days</th><th>q4_days</th><th>woj</th><th>pkd</th><th>size</th><th>sector</th><th>source</th></tr><tr><th></th><th title=\"String\">String</th><th title=\"String\">String</th><th title=\"Dates.Date\">Date…</th><th title=\"Dates.Date\">Date…</th><th title=\"Union{Missing, Dates.Date}\">Date…?</th><th title=\"Int64\">Int64</th><th title=\"Bool\">Bool</th><th title=\"Bool\">Bool</th><th title=\"Bool\">Bool</th><th title=\"Bool\">Bool</th><th title=\"Union{Missing, Int64}\">Int64?</th><th title=\"Union{Missing, Int64}\">Int64?</th><th title=\"Union{Missing, Int64}\">Int64?</th><th title=\"Union{Missing, Int64}\">Int64?</th><th title=\"Int64\">Int64</th><th title=\"String1\">String1</th><th title=\"String1\">String1</th><th title=\"Int64\">Int64</th><th title=\"String7\">String7</th></tr></thead><tbody><tr><th>1</th><td>1b4701354603e4f186a443940768aecf1e38d65c</td><td>b88aaaf7d35782005f90dc1c9d2dc0dc27902285</td><td>2018-03-21</td><td>2018-04-03</td><td>2018-04-04</td><td>1</td><td>1</td><td>0</td><td>0</td><td>0</td><td>10</td><td><em>missing</em></td><td><em>missing</em></td><td><em>missing</em></td><td>8</td><td>R</td><td>S</td><td>1</td><td>cbop</td></tr><tr><th>2</th><td>32f40ce1c624214de376f791a6e0e365c5cdeea6</td><td>da840976961bcf05d9b670fbf9063a8e9e76277c</td><td>2018-11-21</td><td>2019-01-07</td><td>2019-01-07</td><td>1</td><td>0</td><td>0</td><td>0</td><td>1</td><td><em>missing</em></td><td><em>missing</em></td><td><em>missing</em></td><td>40</td><td>12</td><td>A</td><td>D</td><td>1</td><td>cbop</td></tr><tr><th>3</th><td>623fa6eee4d0e31cf1db41724d4630ae35f8cec0</td><td>ed5193dabf23fe46eeee8df4aa532ef6c958831a</td><td>2018-03-15</td><td>2018-04-11</td><td>2018-04-11</td><td>1</td><td>1</td><td>0</td><td>0</td><td>0</td><td>16</td><td><em>missing</em></td><td><em>missing</em></td><td><em>missing</em></td><td>30</td><td>P</td><td>D</td><td>1</td><td>cbop</td></tr><tr><th>4</th><td>623fa6eee4d0e31cf1db41724d4630ae35f8cec0</td><td>282a00d492521b2f522d5e54cc0e4d9ee885e2cd</td><td>2018-03-16</td><td>2018-04-13</td><td>2018-04-10</td><td>1</td><td>1</td><td>0</td><td>0</td><td>0</td><td>15</td><td><em>missing</em></td><td><em>missing</em></td><td><em>missing</em></td><td>30</td><td>P</td><td>D</td><td>1</td><td>cbop</td></tr><tr><th>5</th><td>623fa6eee4d0e31cf1db41724d4630ae35f8cec0</td><td>7cd7a9ec93f21cdc3028f6ae67c49e484a47d8a1</td><td>2018-03-12</td><td>2018-04-30</td><td>2018-04-23</td><td>1</td><td>1</td><td>0</td><td>0</td><td>0</td><td>19</td><td><em>missing</em></td><td><em>missing</em></td><td><em>missing</em></td><td>30</td><td>P</td><td>D</td><td>1</td><td>cbop</td></tr><tr><th>6</th><td>dd6e32263037e81f124a256869cf48ea319c0e22</td><td>3319f8670628fc65269b4450df964c260a1e3d63</td><td>2018-03-28</td><td>2018-04-15</td><td>2018-04-15</td><td>1</td><td>1</td><td>0</td><td>0</td><td>0</td><td>3</td><td><em>missing</em></td><td><em>missing</em></td><td><em>missing</em></td><td>2</td><td>P</td><td>D</td><td>1</td><td>cbop</td></tr><tr><th>7</th><td>dd6e32263037e81f124a256869cf48ea319c0e22</td><td>dfda7d3be12c076c80b897e9b0831d2f6005c543</td><td>2018-03-28</td><td>2018-04-15</td><td>2018-04-15</td><td>1</td><td>1</td><td>0</td><td>0</td><td>0</td><td>3</td><td><em>missing</em></td><td><em>missing</em></td><td><em>missing</em></td><td>2</td><td>P</td><td>D</td><td>1</td><td>cbop</td></tr><tr><th>8</th><td>d0d15c10127d71d32a3b95ef50bb039cbe1c2293</td><td>675f6a2198d30f6529b577000e73f61178d96109</td><td>2018-06-26</td><td>2018-07-25</td><td>2018-07-25</td><td>1</td><td>0</td><td>1</td><td>0</td><td>0</td><td><em>missing</em></td><td>4</td><td><em>missing</em></td><td><em>missing</em></td><td>22</td><td>P</td><td>D</td><td>1</td><td>cbop</td></tr><tr><th>9</th><td>d0d15c10127d71d32a3b95ef50bb039cbe1c2293</td><td>ce0a2b7a25685691885dc8582ec05be61f7e2712</td><td>2018-06-26</td><td>2018-07-25</td><td>2018-07-25</td><td>1</td><td>0</td><td>1</td><td>0</td><td>0</td><td><em>missing</em></td><td>4</td><td><em>missing</em></td><td><em>missing</em></td><td>22</td><td>P</td><td>D</td><td>1</td><td>cbop</td></tr><tr><th>10</th><td>50e8eda324cd3e775e85f455c753bf7b929860c7</td><td>15a147c9eca85e103cc19db267ac589e97185ba2</td><td>2018-03-30</td><td>2018-04-10</td><td>2018-04-03</td><td>1</td><td>1</td><td>0</td><td>0</td><td>0</td><td>1</td><td><em>missing</em></td><td><em>missing</em></td><td><em>missing</em></td><td>6</td><td>P</td><td>D</td><td>1</td><td>cbop</td></tr></tbody></table></div>"
      ],
      "text/latex": [
       "\\begin{tabular}{r|ccccccccccccccccccc}\n",
       "\t& id\\_unit & id\\_ad & date\\_start & date\\_end & date\\_arch & vacancies & q1 & q2 & q3 & q4 & q1\\_days & q2\\_days & q3\\_days & q4\\_days & woj & pkd & size & sector & source\\\\\n",
       "\t\\hline\n",
       "\t& String & String & Date… & Date… & Date…? & Int64 & Bool & Bool & Bool & Bool & Int64? & Int64? & Int64? & Int64? & Int64 & String1 & String1 & Int64 & String7\\\\\n",
       "\t\\hline\n",
       "\t1 & 1b4701354603e4f186a443940768aecf1e38d65c & b88aaaf7d35782005f90dc1c9d2dc0dc27902285 & 2018-03-21 & 2018-04-03 & 2018-04-04 & 1 & 1 & 0 & 0 & 0 & 10 & \\emph{missing} & \\emph{missing} & \\emph{missing} & 8 & R & S & 1 & cbop \\\\\n",
       "\t2 & 32f40ce1c624214de376f791a6e0e365c5cdeea6 & da840976961bcf05d9b670fbf9063a8e9e76277c & 2018-11-21 & 2019-01-07 & 2019-01-07 & 1 & 0 & 0 & 0 & 1 & \\emph{missing} & \\emph{missing} & \\emph{missing} & 40 & 12 & A & D & 1 & cbop \\\\\n",
       "\t3 & 623fa6eee4d0e31cf1db41724d4630ae35f8cec0 & ed5193dabf23fe46eeee8df4aa532ef6c958831a & 2018-03-15 & 2018-04-11 & 2018-04-11 & 1 & 1 & 0 & 0 & 0 & 16 & \\emph{missing} & \\emph{missing} & \\emph{missing} & 30 & P & D & 1 & cbop \\\\\n",
       "\t4 & 623fa6eee4d0e31cf1db41724d4630ae35f8cec0 & 282a00d492521b2f522d5e54cc0e4d9ee885e2cd & 2018-03-16 & 2018-04-13 & 2018-04-10 & 1 & 1 & 0 & 0 & 0 & 15 & \\emph{missing} & \\emph{missing} & \\emph{missing} & 30 & P & D & 1 & cbop \\\\\n",
       "\t5 & 623fa6eee4d0e31cf1db41724d4630ae35f8cec0 & 7cd7a9ec93f21cdc3028f6ae67c49e484a47d8a1 & 2018-03-12 & 2018-04-30 & 2018-04-23 & 1 & 1 & 0 & 0 & 0 & 19 & \\emph{missing} & \\emph{missing} & \\emph{missing} & 30 & P & D & 1 & cbop \\\\\n",
       "\t6 & dd6e32263037e81f124a256869cf48ea319c0e22 & 3319f8670628fc65269b4450df964c260a1e3d63 & 2018-03-28 & 2018-04-15 & 2018-04-15 & 1 & 1 & 0 & 0 & 0 & 3 & \\emph{missing} & \\emph{missing} & \\emph{missing} & 2 & P & D & 1 & cbop \\\\\n",
       "\t7 & dd6e32263037e81f124a256869cf48ea319c0e22 & dfda7d3be12c076c80b897e9b0831d2f6005c543 & 2018-03-28 & 2018-04-15 & 2018-04-15 & 1 & 1 & 0 & 0 & 0 & 3 & \\emph{missing} & \\emph{missing} & \\emph{missing} & 2 & P & D & 1 & cbop \\\\\n",
       "\t8 & d0d15c10127d71d32a3b95ef50bb039cbe1c2293 & 675f6a2198d30f6529b577000e73f61178d96109 & 2018-06-26 & 2018-07-25 & 2018-07-25 & 1 & 0 & 1 & 0 & 0 & \\emph{missing} & 4 & \\emph{missing} & \\emph{missing} & 22 & P & D & 1 & cbop \\\\\n",
       "\t9 & d0d15c10127d71d32a3b95ef50bb039cbe1c2293 & ce0a2b7a25685691885dc8582ec05be61f7e2712 & 2018-06-26 & 2018-07-25 & 2018-07-25 & 1 & 0 & 1 & 0 & 0 & \\emph{missing} & 4 & \\emph{missing} & \\emph{missing} & 22 & P & D & 1 & cbop \\\\\n",
       "\t10 & 50e8eda324cd3e775e85f455c753bf7b929860c7 & 15a147c9eca85e103cc19db267ac589e97185ba2 & 2018-03-30 & 2018-04-10 & 2018-04-03 & 1 & 1 & 0 & 0 & 0 & 1 & \\emph{missing} & \\emph{missing} & \\emph{missing} & 6 & P & D & 1 & cbop \\\\\n",
       "\\end{tabular}\n"
      ],
      "text/plain": [
       "\u001b[1m10×19 DataFrame\u001b[0m\n",
       "\u001b[1m Row \u001b[0m│\u001b[1m id_unit                           \u001b[0m\u001b[1m id_ad                             \u001b[0m\u001b[1m date_start \u001b[0m\u001b[1m date_end   \u001b[0m\u001b[1m date_arch  \u001b[0m\u001b[1m vacancies \u001b[0m\u001b[1m q1    \u001b[0m\u001b[1m q2    \u001b[0m\u001b[1m q3    \u001b[0m\u001b[1m q4    \u001b[0m\u001b[1m q1_days \u001b[0m\u001b[1m q2_days \u001b[0m\u001b[1m q3_days \u001b[0m\u001b[1m q4_days \u001b[0m\u001b[1m woj   \u001b[0m\u001b[1m pkd     \u001b[0m\u001b[1m size    \u001b[0m\u001b[1m sector \u001b[0m\u001b[1m source  \u001b[0m\n",
       "\u001b[1m     \u001b[0m│\u001b[90m String                            \u001b[0m\u001b[90m String                            \u001b[0m\u001b[90m Dates.Date \u001b[0m\u001b[90m Dates.Date \u001b[0m\u001b[90m Date…?     \u001b[0m\u001b[90m Int64     \u001b[0m\u001b[90m Bool  \u001b[0m\u001b[90m Bool  \u001b[0m\u001b[90m Bool  \u001b[0m\u001b[90m Bool  \u001b[0m\u001b[90m Int64?  \u001b[0m\u001b[90m Int64?  \u001b[0m\u001b[90m Int64?  \u001b[0m\u001b[90m Int64?  \u001b[0m\u001b[90m Int64 \u001b[0m\u001b[90m String1 \u001b[0m\u001b[90m String1 \u001b[0m\u001b[90m Int64  \u001b[0m\u001b[90m String7 \u001b[0m\n",
       "─────┼───────────────────────────────────────────────────────────────────────────────────────────────────────────────────────────────────────────────────────────────────────────────────────────────────────────────────────────────\n",
       "   1 │ 1b4701354603e4f186a443940768aecf…  b88aaaf7d35782005f90dc1c9d2dc0dc…  2018-03-21  2018-04-03  2018-04-04          1   true  false  false  false       10 \u001b[90m missing \u001b[0m\u001b[90m missing \u001b[0m\u001b[90m missing \u001b[0m     8  R        S             1  cbop\n",
       "   2 │ 32f40ce1c624214de376f791a6e0e365…  da840976961bcf05d9b670fbf9063a8e…  2018-11-21  2019-01-07  2019-01-07          1  false  false  false   true \u001b[90m missing \u001b[0m\u001b[90m missing \u001b[0m\u001b[90m missing \u001b[0m      40     12  A        D             1  cbop\n",
       "  ⋮  │                 ⋮                                  ⋮                      ⋮           ⋮           ⋮           ⋮        ⋮      ⋮      ⋮      ⋮       ⋮        ⋮        ⋮        ⋮       ⋮       ⋮        ⋮       ⋮        ⋮\n",
       "  10 │ 50e8eda324cd3e775e85f455c753bf7b…  15a147c9eca85e103cc19db267ac589e…  2018-03-30  2018-04-10  2018-04-03          1   true  false  false  false        1 \u001b[90m missing \u001b[0m\u001b[90m missing \u001b[0m\u001b[90m missing \u001b[0m     6  P        D             1  cbop\n",
       "\u001b[36m                                                                                                                                                                                                                       7 rows omitted\u001b[0m"
      ]
     },
     "execution_count": 10,
     "metadata": {},
     "output_type": "execute_result"
    }
   ],
   "source": [
    "z = ZipFile.Reader(\"../data/data-for-capture-recapture.csv.zip\") \n",
    "a_file_in_zip = filter(x -> x.name == \"data-for-capture-recapture.csv\", z.files)[1]\n",
    "cr_data = CSV.read(a_file_in_zip, DataFrame) \n",
    "first(cr_data, 10)"
   ]
  },
  {
   "cell_type": "code",
   "execution_count": 69,
   "metadata": {},
   "outputs": [
    {
     "data": {
      "text/html": [
       "<div class=\"data-frame\"><p>6 rows × 4 columns</p><table class=\"data-frame\"><thead><tr><th></th><th>var_cat</th><th>cbop</th><th>pracuj</th><th>count</th></tr><tr><th></th><th title=\"String\">String</th><th title=\"Int64\">Int64</th><th title=\"Int64\">Int64</th><th title=\"Int64\">Int64</th></tr></thead><tbody><tr><th>1</th><td>SM</td><td>1</td><td>1</td><td>101</td></tr><tr><th>2</th><td>SM</td><td>1</td><td>0</td><td>8899</td></tr><tr><th>3</th><td>SM</td><td>0</td><td>1</td><td>3647</td></tr><tr><th>4</th><td>D</td><td>1</td><td>1</td><td>536</td></tr><tr><th>5</th><td>D</td><td>1</td><td>0</td><td>2582</td></tr><tr><th>6</th><td>D</td><td>0</td><td>1</td><td>3785</td></tr></tbody></table></div>"
      ],
      "text/latex": [
       "\\begin{tabular}{r|cccc}\n",
       "\t& var\\_cat & cbop & pracuj & count\\\\\n",
       "\t\\hline\n",
       "\t& String & Int64 & Int64 & Int64\\\\\n",
       "\t\\hline\n",
       "\t1 & SM & 1 & 1 & 101 \\\\\n",
       "\t2 & SM & 1 & 0 & 8899 \\\\\n",
       "\t3 & SM & 0 & 1 & 3647 \\\\\n",
       "\t4 & D & 1 & 1 & 536 \\\\\n",
       "\t5 & D & 1 & 0 & 2582 \\\\\n",
       "\t6 & D & 0 & 1 & 3785 \\\\\n",
       "\\end{tabular}\n"
      ],
      "text/plain": [
       "\u001b[1m6×4 DataFrame\u001b[0m\n",
       "\u001b[1m Row \u001b[0m│\u001b[1m var_cat \u001b[0m\u001b[1m cbop  \u001b[0m\u001b[1m pracuj \u001b[0m\u001b[1m count \u001b[0m\n",
       "\u001b[1m     \u001b[0m│\u001b[90m String  \u001b[0m\u001b[90m Int64 \u001b[0m\u001b[90m Int64  \u001b[0m\u001b[90m Int64 \u001b[0m\n",
       "─────┼───────────────────────────────\n",
       "   1 │ SM           1       1    101\n",
       "   2 │ SM           1       0   8899\n",
       "  ⋮  │    ⋮       ⋮      ⋮       ⋮\n",
       "   6 │ D            0       1   3785\n",
       "\u001b[36m                       3 rows omitted\u001b[0m"
      ]
     },
     "execution_count": 69,
     "metadata": {},
     "output_type": "execute_result"
    }
   ],
   "source": [
    "data_optim = create_data(cr_data, :q1, :q1_days, 30, :size, \"D\")\n",
    "data_optim"
   ]
  },
  {
   "cell_type": "code",
   "execution_count": 125,
   "metadata": {},
   "outputs": [
    {
     "data": {
      "text/html": [
       "<div class=\"data-frame\"><p>6,561 rows × 6 columns</p><table class=\"data-frame\"><thead><tr><th></th><th>Na</th><th>Nb</th><th>α</th><th>p1</th><th>p2a</th><th>p2b</th></tr><tr><th></th><th title=\"Float64\">Float64</th><th title=\"Float64\">Float64</th><th title=\"Float64\">Float64</th><th title=\"Float64\">Float64</th><th title=\"Float64\">Float64</th><th title=\"Float64\">Float64</th></tr></thead><tbody><tr><th>1</th><td>46979.0</td><td>9097.0</td><td>0.1</td><td>0.1</td><td>0.1</td><td>0.1</td></tr><tr><th>2</th><td>46979.0</td><td>9097.0</td><td>0.2</td><td>0.1</td><td>0.1</td><td>0.1</td></tr><tr><th>3</th><td>46979.0</td><td>9097.0</td><td>0.3</td><td>0.1</td><td>0.1</td><td>0.1</td></tr><tr><th>4</th><td>46979.0</td><td>9097.0</td><td>0.4</td><td>0.1</td><td>0.1</td><td>0.1</td></tr><tr><th>5</th><td>46979.0</td><td>9097.0</td><td>0.5</td><td>0.1</td><td>0.1</td><td>0.1</td></tr><tr><th>6</th><td>46979.0</td><td>9097.0</td><td>0.6</td><td>0.1</td><td>0.1</td><td>0.1</td></tr><tr><th>7</th><td>46979.0</td><td>9097.0</td><td>0.7</td><td>0.1</td><td>0.1</td><td>0.1</td></tr><tr><th>8</th><td>46979.0</td><td>9097.0</td><td>0.8</td><td>0.1</td><td>0.1</td><td>0.1</td></tr><tr><th>9</th><td>46979.0</td><td>9097.0</td><td>0.9</td><td>0.1</td><td>0.1</td><td>0.1</td></tr><tr><th>10</th><td>46979.0</td><td>9097.0</td><td>0.1</td><td>0.2</td><td>0.1</td><td>0.1</td></tr><tr><th>11</th><td>46979.0</td><td>9097.0</td><td>0.2</td><td>0.2</td><td>0.1</td><td>0.1</td></tr><tr><th>12</th><td>46979.0</td><td>9097.0</td><td>0.3</td><td>0.2</td><td>0.1</td><td>0.1</td></tr><tr><th>&vellip;</th><td>&vellip;</td><td>&vellip;</td><td>&vellip;</td><td>&vellip;</td><td>&vellip;</td><td>&vellip;</td></tr></tbody></table></div>"
      ],
      "text/latex": [
       "\\begin{tabular}{r|cccccc}\n",
       "\t& Na & Nb & α & p1 & p2a & p2b\\\\\n",
       "\t\\hline\n",
       "\t& Float64 & Float64 & Float64 & Float64 & Float64 & Float64\\\\\n",
       "\t\\hline\n",
       "\t1 & 46979.0 & 9097.0 & 0.1 & 0.1 & 0.1 & 0.1 \\\\\n",
       "\t2 & 46979.0 & 9097.0 & 0.2 & 0.1 & 0.1 & 0.1 \\\\\n",
       "\t3 & 46979.0 & 9097.0 & 0.3 & 0.1 & 0.1 & 0.1 \\\\\n",
       "\t4 & 46979.0 & 9097.0 & 0.4 & 0.1 & 0.1 & 0.1 \\\\\n",
       "\t5 & 46979.0 & 9097.0 & 0.5 & 0.1 & 0.1 & 0.1 \\\\\n",
       "\t6 & 46979.0 & 9097.0 & 0.6 & 0.1 & 0.1 & 0.1 \\\\\n",
       "\t7 & 46979.0 & 9097.0 & 0.7 & 0.1 & 0.1 & 0.1 \\\\\n",
       "\t8 & 46979.0 & 9097.0 & 0.8 & 0.1 & 0.1 & 0.1 \\\\\n",
       "\t9 & 46979.0 & 9097.0 & 0.9 & 0.1 & 0.1 & 0.1 \\\\\n",
       "\t10 & 46979.0 & 9097.0 & 0.1 & 0.2 & 0.1 & 0.1 \\\\\n",
       "\t11 & 46979.0 & 9097.0 & 0.2 & 0.2 & 0.1 & 0.1 \\\\\n",
       "\t12 & 46979.0 & 9097.0 & 0.3 & 0.2 & 0.1 & 0.1 \\\\\n",
       "\t$\\dots$ & $\\dots$ & $\\dots$ & $\\dots$ & $\\dots$ & $\\dots$ & $\\dots$ \\\\\n",
       "\\end{tabular}\n"
      ],
      "text/plain": [
       "\u001b[1m6561×6 DataFrame\u001b[0m\n",
       "\u001b[1m  Row \u001b[0m│\u001b[1m Na      \u001b[0m\u001b[1m Nb      \u001b[0m\u001b[1m α       \u001b[0m\u001b[1m p1      \u001b[0m\u001b[1m p2a     \u001b[0m\u001b[1m p2b     \u001b[0m\n",
       "\u001b[1m      \u001b[0m│\u001b[90m Float64 \u001b[0m\u001b[90m Float64 \u001b[0m\u001b[90m Float64 \u001b[0m\u001b[90m Float64 \u001b[0m\u001b[90m Float64 \u001b[0m\u001b[90m Float64 \u001b[0m\n",
       "──────┼──────────────────────────────────────────────────────\n",
       "    1 │ 46979.0   9097.0      0.1      0.1      0.1      0.1\n",
       "    2 │ 46979.0   9097.0      0.2      0.1      0.1      0.1\n",
       "  ⋮   │    ⋮        ⋮        ⋮        ⋮        ⋮        ⋮\n",
       " 6561 │ 46979.0   9097.0      0.9      0.9      0.9      0.9\n",
       "\u001b[36m                                            6558 rows omitted\u001b[0m"
      ]
     },
     "execution_count": 125,
     "metadata": {},
     "output_type": "execute_result"
    }
   ],
   "source": [
    "df_grid = expand_grid(Na=46_979.0, Nb=9_097.0, \n",
    "                      α = 0.1:0.1:0.9, p1=0.1:0.1:0.9, p2a=0.1:0.1:0.9, p2b=0.1:0.1:0.9)"
   ]
  },
  {
   "cell_type": "code",
   "execution_count": 126,
   "metadata": {
    "scrolled": true
   },
   "outputs": [
    {
     "data": {
      "text/html": [
       "<p>DataFrameRow (7 columns)</p><div class=\"data-frame\"><table class=\"data-frame\"><thead><tr><th></th><th>Na</th><th>Nb</th><th>α</th><th>p1</th><th>p2a</th><th>p2b</th><th>wyn</th></tr><tr><th></th><th title=\"Float64\">Float64</th><th title=\"Float64\">Float64</th><th title=\"Float64\">Float64</th><th title=\"Float64\">Float64</th><th title=\"Float64\">Float64</th><th title=\"Float64\">Float64</th><th title=\"Float64\">Float64</th></tr></thead><tbody><tr><th>1</th><td>46979.0</td><td>9097.0</td><td>0.1</td><td>0.2</td><td>0.1</td><td>0.4</td><td>6561.12</td></tr></tbody></table></div>"
      ],
      "text/latex": [
       "\\begin{tabular}{r|ccccccc}\n",
       "\t& Na & Nb & α & p1 & p2a & p2b & wyn\\\\\n",
       "\t\\hline\n",
       "\t& Float64 & Float64 & Float64 & Float64 & Float64 & Float64 & Float64\\\\\n",
       "\t\\hline\n",
       "\t1 & 46979.0 & 9097.0 & 0.1 & 0.2 & 0.1 & 0.4 & 6561.12 \\\\\n",
       "\\end{tabular}\n"
      ],
      "text/plain": [
       "\u001b[1mDataFrameRow\u001b[0m\n",
       "\u001b[1m Row \u001b[0m│\u001b[1m Na      \u001b[0m\u001b[1m Nb      \u001b[0m\u001b[1m α       \u001b[0m\u001b[1m p1      \u001b[0m\u001b[1m p2a     \u001b[0m\u001b[1m p2b     \u001b[0m\u001b[1m wyn     \u001b[0m\n",
       "\u001b[1m     \u001b[0m│\u001b[90m Float64 \u001b[0m\u001b[90m Float64 \u001b[0m\u001b[90m Float64 \u001b[0m\u001b[90m Float64 \u001b[0m\u001b[90m Float64 \u001b[0m\u001b[90m Float64 \u001b[0m\u001b[90m Float64 \u001b[0m\n",
       "─────┼───────────────────────────────────────────────────────────────\n",
       "   1 │ 46979.0   9097.0      0.1      0.2      0.1      0.4  6561.12"
      ]
     },
     "execution_count": 126,
     "metadata": {},
     "output_type": "execute_result"
    }
   ],
   "source": [
    "df_grid = @chain df_grid begin\n",
    "   @rtransform(:wyn = sum(abs.(mme_function([:Na,:Nb,:α,:p1,:p2a,:p2b], data_optim.count))))\n",
    "  sort(:wyn)\n",
    "end\n",
    "\n",
    "first(df_grid)"
   ]
  },
  {
   "cell_type": "code",
   "execution_count": 127,
   "metadata": {},
   "outputs": [
    {
     "data": {
      "text/plain": [
       "Results of Nonlinear Solver Algorithm\n",
       " * Algorithm: Trust-region with dogleg and autoscaling\n",
       " * Starting Point: [46979.0, 9097.0, 0.1, 0.2, 0.1, 0.4]\n",
       " * Zero: [54295.89082655793, 18810.509733027644, 0.06929280758398454, 0.16575840018443325, 0.012057736647645829, 0.18470370568917688]\n",
       " * Inf-norm of residuals: 0.000000\n",
       " * Iterations: 6\n",
       " * Convergence: true\n",
       "   * |x - x'| < 0.0e+00: false\n",
       "   * |f(x)| < 1.0e-08: true\n",
       " * Function Calls (f): 7\n",
       " * Jacobian Calls (df/dx): 7"
      ]
     },
     "execution_count": 127,
     "metadata": {},
     "output_type": "execute_result"
    }
   ],
   "source": [
    "nlsolve((F,x) -> mme_function!(F, x, data_optim.count), collect(values(df_grid[1, 1:6])))"
   ]
  }
 ],
 "metadata": {
  "kernelspec": {
   "display_name": "Julia 1.6.0",
   "language": "julia",
   "name": "julia-1.6"
  },
  "language_info": {
   "file_extension": ".jl",
   "mimetype": "application/julia",
   "name": "julia",
   "version": "1.6.2"
  }
 },
 "nbformat": 4,
 "nbformat_minor": 4
}
