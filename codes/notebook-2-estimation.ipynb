{
 "cells": [
  {
   "cell_type": "markdown",
   "metadata": {},
   "source": [
    "# 1. Readme\n"
   ]
  },
  {
   "cell_type": "markdown",
   "metadata": {},
   "source": [
    "## 1.1 Required packages"
   ]
  },
  {
   "cell_type": "code",
   "execution_count": 1,
   "metadata": {},
   "outputs": [],
   "source": [
    "using JuMP ## optimization\n",
    "using Ipopt ## nonlinear optimization\n",
    " \n",
    "using ForwardDiff ## autodiff - gradient and hessian\n",
    "using LinearAlgebra\n",
    "using Random\n",
    "using Statistics\n",
    "using Distributions\n",
    "\n",
    "using CSV\n",
    "using DataFrames\n",
    "using Pipe\n",
    "\n",
    "using Plots\n",
    "using Makie\n",
    "using CairoMakie\n",
    "\n",
    "using Latexify\n",
    "using ZipFile"
   ]
  },
  {
   "cell_type": "markdown",
   "metadata": {},
   "source": [
    "## 1.3 Functions for optimization"
   ]
  },
  {
   "cell_type": "code",
   "execution_count": 2,
   "metadata": {},
   "outputs": [
    {
     "data": {
      "text/plain": [
       "sample_from_n (generic function with 1 method)"
      ]
     },
     "execution_count": 2,
     "metadata": {},
     "output_type": "execute_result"
    }
   ],
   "source": [
    "include(\"functions.jl\")"
   ]
  },
  {
   "cell_type": "markdown",
   "metadata": {},
   "source": [
    "# 2. Empirical study"
   ]
  },
  {
   "cell_type": "markdown",
   "metadata": {},
   "source": [
    "## 2.1 Read the data"
   ]
  },
  {
   "cell_type": "markdown",
   "metadata": {},
   "source": [
    "Download data from Github repository"
   ]
  },
  {
   "cell_type": "code",
   "execution_count": 11,
   "metadata": {},
   "outputs": [
    {
     "data": {
      "text/plain": [
       "\"data-for-capture-recapture.csv.zip\""
      ]
     },
     "execution_count": 11,
     "metadata": {},
     "output_type": "execute_result"
    }
   ],
   "source": [
    "download(\"https://github.com/DepartmentOfStatisticsPUE/job-vacancies-capture-recapture/blob/main/data-for-capture-recapture.csv.zip?raw=true\",\n",
    "         \"data-for-capture-recapture.csv.zip\")"
   ]
  },
  {
   "cell_type": "code",
   "execution_count": 3,
   "metadata": {},
   "outputs": [
    {
     "data": {
      "text/html": [
       "<table class=\"data-frame\"><thead><tr><th></th><th>date_start</th><th>date_end</th><th>date_arch</th><th>vacancies</th><th>q1</th><th>q2</th><th>q3</th><th>q4</th><th>q1_days</th></tr><tr><th></th><th>Date…</th><th>Date…</th><th>Date…?</th><th>Int64</th><th>Bool</th><th>Bool</th><th>Bool</th><th>Bool</th><th>Int64?</th></tr></thead><tbody><p>10 rows × 20 columns (omitted printing of 11 columns)</p><tr><th>1</th><td>2018-03-21</td><td>2018-04-03</td><td>2018-04-04</td><td>1</td><td>1</td><td>0</td><td>0</td><td>0</td><td>10</td></tr><tr><th>2</th><td>2018-12-03</td><td>2019-01-02</td><td><em>missing</em></td><td>1</td><td>0</td><td>0</td><td>0</td><td>1</td><td><em>missing</em></td></tr><tr><th>3</th><td>2018-06-15</td><td>2018-07-15</td><td><em>missing</em></td><td>1</td><td>0</td><td>1</td><td>0</td><td>0</td><td><em>missing</em></td></tr><tr><th>4</th><td>2018-12-31</td><td>2019-01-30</td><td><em>missing</em></td><td>1</td><td>0</td><td>0</td><td>0</td><td>1</td><td><em>missing</em></td></tr><tr><th>5</th><td>2018-06-15</td><td>2018-07-15</td><td><em>missing</em></td><td>1</td><td>0</td><td>1</td><td>0</td><td>0</td><td><em>missing</em></td></tr><tr><th>6</th><td>2018-03-22</td><td>2018-04-21</td><td><em>missing</em></td><td>1</td><td>1</td><td>0</td><td>0</td><td>0</td><td>9</td></tr><tr><th>7</th><td>2018-12-14</td><td>2019-01-13</td><td><em>missing</em></td><td>1</td><td>0</td><td>0</td><td>0</td><td>1</td><td><em>missing</em></td></tr><tr><th>8</th><td>2018-09-27</td><td>2018-10-27</td><td><em>missing</em></td><td>1</td><td>0</td><td>0</td><td>1</td><td>0</td><td><em>missing</em></td></tr><tr><th>9</th><td>2018-06-12</td><td>2018-07-12</td><td><em>missing</em></td><td>1</td><td>0</td><td>1</td><td>0</td><td>0</td><td><em>missing</em></td></tr><tr><th>10</th><td>2018-09-18</td><td>2018-10-18</td><td><em>missing</em></td><td>1</td><td>0</td><td>0</td><td>1</td><td>0</td><td><em>missing</em></td></tr></tbody></table>"
      ],
      "text/latex": [
       "\\begin{tabular}{r|cccccccccc}\n",
       "\t& date\\_start & date\\_end & date\\_arch & vacancies & q1 & q2 & q3 & q4 & q1\\_days & \\\\\n",
       "\t\\hline\n",
       "\t& Date… & Date… & Date…? & Int64 & Bool & Bool & Bool & Bool & Int64? & \\\\\n",
       "\t\\hline\n",
       "\t1 & 2018-03-21 & 2018-04-03 & 2018-04-04 & 1 & 1 & 0 & 0 & 0 & 10 & $\\dots$ \\\\\n",
       "\t2 & 2018-12-03 & 2019-01-02 & \\emph{missing} & 1 & 0 & 0 & 0 & 1 & \\emph{missing} & $\\dots$ \\\\\n",
       "\t3 & 2018-06-15 & 2018-07-15 & \\emph{missing} & 1 & 0 & 1 & 0 & 0 & \\emph{missing} & $\\dots$ \\\\\n",
       "\t4 & 2018-12-31 & 2019-01-30 & \\emph{missing} & 1 & 0 & 0 & 0 & 1 & \\emph{missing} & $\\dots$ \\\\\n",
       "\t5 & 2018-06-15 & 2018-07-15 & \\emph{missing} & 1 & 0 & 1 & 0 & 0 & \\emph{missing} & $\\dots$ \\\\\n",
       "\t6 & 2018-03-22 & 2018-04-21 & \\emph{missing} & 1 & 1 & 0 & 0 & 0 & 9 & $\\dots$ \\\\\n",
       "\t7 & 2018-12-14 & 2019-01-13 & \\emph{missing} & 1 & 0 & 0 & 0 & 1 & \\emph{missing} & $\\dots$ \\\\\n",
       "\t8 & 2018-09-27 & 2018-10-27 & \\emph{missing} & 1 & 0 & 0 & 1 & 0 & \\emph{missing} & $\\dots$ \\\\\n",
       "\t9 & 2018-06-12 & 2018-07-12 & \\emph{missing} & 1 & 0 & 1 & 0 & 0 & \\emph{missing} & $\\dots$ \\\\\n",
       "\t10 & 2018-09-18 & 2018-10-18 & \\emph{missing} & 1 & 0 & 0 & 1 & 0 & \\emph{missing} & $\\dots$ \\\\\n",
       "\\end{tabular}\n"
      ],
      "text/plain": [
       "\u001b[1m10×20 DataFrame\u001b[0m\n",
       "\u001b[1m Row \u001b[0m│\u001b[1m date_start \u001b[0m\u001b[1m date_end   \u001b[0m\u001b[1m date_arch  \u001b[0m\u001b[1m vacancies \u001b[0m\u001b[1m q1    \u001b[0m\u001b[1m q2    \u001b[0m\u001b[1m q3    \u001b[0m\u001b[1m q4 \u001b[0m ⋯\n",
       "\u001b[1m     \u001b[0m│\u001b[90m Dates.Date \u001b[0m\u001b[90m Date…      \u001b[0m\u001b[90m Date…?     \u001b[0m\u001b[90m Int64     \u001b[0m\u001b[90m Bool  \u001b[0m\u001b[90m Bool  \u001b[0m\u001b[90m Bool  \u001b[0m\u001b[90m Boo\u001b[0m ⋯\n",
       "─────┼──────────────────────────────────────────────────────────────────────────\n",
       "   1 │ 2018-03-21  2018-04-03  2018-04-04          1   true  false  false  fal ⋯\n",
       "   2 │ 2018-12-03  2019-01-02 \u001b[90m missing    \u001b[0m         1  false  false  false   tr\n",
       "   3 │ 2018-06-15  2018-07-15 \u001b[90m missing    \u001b[0m         1  false   true  false  fal\n",
       "   4 │ 2018-12-31  2019-01-30 \u001b[90m missing    \u001b[0m         1  false  false  false   tr\n",
       "   5 │ 2018-06-15  2018-07-15 \u001b[90m missing    \u001b[0m         1  false   true  false  fal ⋯\n",
       "   6 │ 2018-03-22  2018-04-21 \u001b[90m missing    \u001b[0m         1   true  false  false  fal\n",
       "   7 │ 2018-12-14  2019-01-13 \u001b[90m missing    \u001b[0m         1  false  false  false   tr\n",
       "   8 │ 2018-09-27  2018-10-27 \u001b[90m missing    \u001b[0m         1  false  false   true  fal\n",
       "   9 │ 2018-06-12  2018-07-12 \u001b[90m missing    \u001b[0m         1  false   true  false  fal ⋯\n",
       "  10 │ 2018-09-18  2018-10-18 \u001b[90m missing    \u001b[0m         1  false  false   true  fal\n",
       "\u001b[36m                                                              13 columns omitted\u001b[0m"
      ]
     },
     "execution_count": 3,
     "metadata": {},
     "output_type": "execute_result"
    }
   ],
   "source": [
    "z = ZipFile.Reader(\"../data/data-for-capture-recapture.csv.zip\") \n",
    "a_file_in_zip = filter(x -> x.name == \"data-for-capture-recapture.csv\", z.files)[1]\n",
    "cr_data = CSV.read(a_file_in_zip, DataFrame) \n",
    "first(cr_data, 10)"
   ]
  },
  {
   "cell_type": "code",
   "execution_count": 4,
   "metadata": {
    "scrolled": true
   },
   "outputs": [
    {
     "name": "stdout",
     "output_type": "stream",
     "text": [
      "\n",
      "******************************************************************************\n",
      "This program contains Ipopt, a library for large-scale nonlinear optimization.\n",
      " Ipopt is released as open source code under the Eclipse Public License (EPL).\n",
      "         For more information visit https://github.com/coin-or/Ipopt\n",
      "******************************************************************************\n",
      "\n",
      "Population size: 73237.4628252493\n",
      "Gradient: 0.00015754839130377452\n",
      "Bootstrap started\n",
      "Population size: 62999.97753536585\n",
      "Gradient: 0.00020073123857711206\n",
      "Bootstrap started\n",
      "Population size: 63426.49039699523\n",
      "Gradient: 0.00010058841778737282\n",
      "Bootstrap started\n",
      "Population size: 48931.107224776344\n",
      "Gradient: 4.512812357088114e-5\n",
      "Bootstrap started\n"
     ]
    }
   ],
   "source": [
    "Random.seed!(123)\n",
    "results_q1 = cr_averse_analysis(cr_data, :q1, :q1_days, 30, :size, \"D\", true, 500, true);\n",
    "results_q2 = cr_averse_analysis(cr_data, :q2, :q2_days, 30, :size, \"D\", true, 500, true);\n",
    "results_q3 = cr_averse_analysis(cr_data, :q3, :q3_days, 30, :size, \"D\", true, 500, true);\n",
    "results_q4 = cr_averse_analysis(cr_data, :q4, :q4_days, 30, :size, \"D\", true, 500, true);"
   ]
  },
  {
   "cell_type": "markdown",
   "metadata": {},
   "source": [
    "Naive estimators for comparison"
   ]
  },
  {
   "cell_type": "code",
   "execution_count": 27,
   "metadata": {},
   "outputs": [
    {
     "name": "stdout",
     "output_type": "stream",
     "text": [
      "153959.76340694007\n",
      "132548.2334739803\n",
      "127224.1502276176\n",
      "99694.39577836411\n"
     ]
    }
   ],
   "source": [
    "@pipe create_data(cr_data, :q1, :q1_days, 30) |>\n",
    "      groupby(_, [:cbop, :pracuj]) |>\n",
    "      combine(_, :count => sum => :N) |>\n",
    "      sort(_, [:cbop, :pracuj], rev = true) |>\n",
    "      ( (_.N[1] + _.N[2])*(_.N[1]+_.N[3])/_.N[1]) |> println\n",
    "\n",
    "@pipe create_data(cr_data, :q2, :q2_days, 30) |>\n",
    "      groupby(_, [:cbop, :pracuj]) |>\n",
    "      combine(_, :count => sum => :N) |>\n",
    "      sort(_, [:cbop, :pracuj], rev = true) |>\n",
    "      ( (_.N[1] + _.N[2])*(_.N[1]+_.N[3])/_.N[1]) |> println\n",
    "\n",
    "@pipe create_data(cr_data, :q3, :q3_days, 30) |>\n",
    "      groupby(_, [:cbop, :pracuj]) |>\n",
    "      combine(_, :count => sum => :N) |>\n",
    "      sort(_, [:cbop, :pracuj], rev = true) |>\n",
    "      ( (_.N[1] + _.N[2])*(_.N[1]+_.N[3])/_.N[1]) |> println\n",
    "\n",
    "@pipe create_data(cr_data, :q4, :q4_days, 30) |>\n",
    "      groupby(_, [:cbop, :pracuj]) |>\n",
    "      combine(_, :count => sum => :N) |>\n",
    "      sort(_, [:cbop, :pracuj], rev = true) |>\n",
    "      ( (_.N[1] + _.N[2])*(_.N[1]+_.N[3])/_.N[1]) |> println\n"
   ]
  },
  {
   "cell_type": "code",
   "execution_count": 28,
   "metadata": {},
   "outputs": [
    {
     "name": "stdout",
     "output_type": "stream",
     "text": [
      "\\begin{tabular}{rr}\n",
      "size2 & count_function\\\\\n",
      "SM & 336690\\\\\n",
      "D & 25189\\\\\n",
      "\\end{tabular}\n",
      "\n",
      "\\begin{tabular}{rr}\n",
      "size2 & count_function\\\\\n",
      "SM & 247647\\\\\n",
      "D & 23664\\\\\n",
      "\\end{tabular}\n",
      "\n",
      "\\begin{tabular}{rr}\n",
      "size2 & count_function\\\\\n",
      "SM & 250189\\\\\n",
      "D & 23591\\\\\n",
      "\\end{tabular}\n",
      "\n",
      "\\begin{tabular}{rr}\n",
      "size2 & count_function\\\\\n",
      "SM & 154694\\\\\n",
      "D & 21180\\\\\n",
      "\\end{tabular}\n",
      "\n"
     ]
    }
   ],
   "source": [
    "@pipe create_data(cr_data, :q1, :q1_days, 30) |>\n",
    "      sort(_, [:cbop, :pracuj], rev = true) |>\n",
    "      groupby(_, [:size2]) |> \n",
    "      combine(_, :count => (x -> (x[1]+x[2])*(x[1]+x[3])/x[1] )) |>\n",
    "    latexify(_; env=:table, latex=false, adjustment = :r, fmt = \"%.f\") |> println\n",
    "\n",
    "@pipe create_data(cr_data, :q2, :q2_days, 30) |>\n",
    "      sort(_, [:cbop, :pracuj], rev = true) |>\n",
    "      groupby(_, [:size2]) |> \n",
    "      combine(_, :count => (x -> (x[1]+x[2])*(x[1]+x[3])/x[1] ))   |>\n",
    "    latexify(_; env=:table, latex=false, adjustment = :r, fmt = \"%.f\")|> println\n",
    "\n",
    "@pipe create_data(cr_data, :q3, :q3_days, 30) |>\n",
    "      sort(_, [:cbop, :pracuj], rev = true) |>\n",
    "      groupby(_, [:size2]) |> \n",
    "      combine(_, :count => (x -> (x[1]+x[2])*(x[1]+x[3])/x[1] ))   |>\n",
    "    latexify(_; env=:table, latex=false, adjustment = :r, fmt = \"%.f\")|> println\n",
    "\n",
    "@pipe create_data(cr_data, :q4, :q4_days, 30) |>\n",
    "      sort(_, [:cbop, :pracuj], rev = true) |>\n",
    "      groupby(_, [:size2]) |> \n",
    "      combine(_, :count => (x -> (x[1]+x[2])*(x[1]+x[3])/x[1] ))   |>\n",
    "    latexify(_; env=:table, latex=false, adjustment = :r, fmt = \"%.f\")|> println\n"
   ]
  },
  {
   "cell_type": "markdown",
   "metadata": {},
   "source": [
    "# 3. Reporting"
   ]
  },
  {
   "cell_type": "markdown",
   "metadata": {},
   "source": [
    "## 3.1 Expected values and variances from bootstrap"
   ]
  },
  {
   "cell_type": "code",
   "execution_count": 30,
   "metadata": {
    "scrolled": true
   },
   "outputs": [
    {
     "data": {
      "text/latex": [
       "\\begin{tabular}{rrrr}\n",
       "Q1 & Q2 & Q3 & Q4\\\\\n",
       "54620.0501 & 46003.8364 & 45971.4452 & 33966.5128\\\\\n",
       "18916.0023 & 17360.2336 & 17752.5753 & 15180.5158\\\\\n",
       "0.0690 & 0.0806 & 0.0702 & 0.0757\\\\\n",
       "0.1651 & 0.1895 & 0.1810 & 0.1212\\\\\n",
       "0.0119 & 0.0161 & 0.0138 & 0.0200\\\\\n",
       "0.1837 & 0.1923 & 0.1847 & 0.1790\\\\\n",
       "\\end{tabular}\n"
      ],
      "text/plain": [
       "L\"\\begin{tabular}{rrrr}\n",
       "Q1 & Q2 & Q3 & Q4\\\\\n",
       "54620.0501 & 46003.8364 & 45971.4452 & 33966.5128\\\\\n",
       "18916.0023 & 17360.2336 & 17752.5753 & 15180.5158\\\\\n",
       "0.0690 & 0.0806 & 0.0702 & 0.0757\\\\\n",
       "0.1651 & 0.1895 & 0.1810 & 0.1212\\\\\n",
       "0.0119 & 0.0161 & 0.0138 & 0.0200\\\\\n",
       "0.1837 & 0.1923 & 0.1847 & 0.1790\\\\\n",
       "\\end{tabular}\n",
       "\""
      ]
     },
     "execution_count": 30,
     "metadata": {},
     "output_type": "execute_result"
    }
   ],
   "source": [
    "@pipe vcat(\n",
    "    mean(results_q1[3], dims = 1),\n",
    "    mean(results_q2[3], dims = 1),\n",
    "    mean(results_q3[3], dims = 1),\n",
    "    mean(results_q4[3], dims = 1)\n",
    ")  |> transpose(_) |>\n",
    "    DataFrame(_, [:Q1, :Q2, :Q3, :Q4]) |>\n",
    "    latexify(_; env=:table, latex=false, adjustment = :r, fmt = \"%.4f\")"
   ]
  },
  {
   "cell_type": "markdown",
   "metadata": {},
   "source": [
    "Expected value for $N_A+N_B=N$"
   ]
  },
  {
   "cell_type": "code",
   "execution_count": 31,
   "metadata": {},
   "outputs": [
    {
     "data": {
      "text/plain": [
       "(73536.052424476, 63364.06994960985, 63724.020467564565, 49147.02858792442)"
      ]
     },
     "execution_count": 31,
     "metadata": {},
     "output_type": "execute_result"
    }
   ],
   "source": [
    "sum(mean(results_q1[3], dims = 1)[1:2]), \n",
    "sum(mean(results_q2[3], dims = 1)[1:2]),\n",
    "sum(mean(results_q3[3], dims = 1)[1:2]),\n",
    "sum(mean(results_q4[3], dims = 1)[1:2]) "
   ]
  },
  {
   "cell_type": "markdown",
   "metadata": {},
   "source": [
    "Standard errors based on the bootstrap"
   ]
  },
  {
   "cell_type": "code",
   "execution_count": 10,
   "metadata": {
    "scrolled": false
   },
   "outputs": [
    {
     "data": {
      "text/latex": [
       "\\begin{tabular}{rrrr}\n",
       "Q1 & Q2 & Q3 & Q4\\\\\n",
       "2626.2206 & 2223.5112 & 2275.3450 & 2412.8609\\\\\n",
       "776.9516 & 706.8354 & 734.2906 & 909.3264\\\\\n",
       "0.0053 & 0.0065 & 0.0058 & 0.0088\\\\\n",
       "0.0077 & 0.0088 & 0.0086 & 0.0082\\\\\n",
       "0.0012 & 0.0014 & 0.0013 & 0.0023\\\\\n",
       "0.0079 & 0.0083 & 0.0080 & 0.0102\\\\\n",
       "\\end{tabular}\n"
      ],
      "text/plain": [
       "L\"\\begin{tabular}{rrrr}\n",
       "Q1 & Q2 & Q3 & Q4\\\\\n",
       "2626.2206 & 2223.5112 & 2275.3450 & 2412.8609\\\\\n",
       "776.9516 & 706.8354 & 734.2906 & 909.3264\\\\\n",
       "0.0053 & 0.0065 & 0.0058 & 0.0088\\\\\n",
       "0.0077 & 0.0088 & 0.0086 & 0.0082\\\\\n",
       "0.0012 & 0.0014 & 0.0013 & 0.0023\\\\\n",
       "0.0079 & 0.0083 & 0.0080 & 0.0102\\\\\n",
       "\\end{tabular}\n",
       "\""
      ]
     },
     "execution_count": 10,
     "metadata": {},
     "output_type": "execute_result"
    }
   ],
   "source": [
    "@pipe vcat(\n",
    "    std(results_q1[3], dims = 1),\n",
    "    std(results_q2[3], dims = 1),\n",
    "    std(results_q3[3], dims = 1),\n",
    "    std(results_q4[3], dims = 1)\n",
    ")  |> transpose(_) |>\n",
    "    DataFrame(_, [:Q1, :Q2, :Q3, :Q4]) |>\n",
    "    latexify(_; env=:table, latex=false, adjustment = :r, fmt = \"%.4f\")"
   ]
  },
  {
   "cell_type": "markdown",
   "metadata": {},
   "source": [
    "Standard error for $N_A + N_B = N$"
   ]
  },
  {
   "cell_type": "code",
   "execution_count": 11,
   "metadata": {
    "scrolled": true
   },
   "outputs": [
    {
     "data": {
      "text/plain": [
       "(3358.3751164165574, 2893.4105728358804, 2968.8519812256263, 3278.6344934812037)"
      ]
     },
     "execution_count": 11,
     "metadata": {},
     "output_type": "execute_result"
    }
   ],
   "source": [
    "std(sum(results_q1[3][:,1:2], dims = 2)), \n",
    "std(sum(results_q2[3][:,1:2], dims = 2)),\n",
    "std(sum(results_q3[3][:,1:2], dims = 2)),\n",
    "std(sum(results_q4[3][:,1:2], dims = 2))"
   ]
  },
  {
   "cell_type": "markdown",
   "metadata": {},
   "source": [
    "## 3.2 Confidence intervals"
   ]
  },
  {
   "cell_type": "code",
   "execution_count": 21,
   "metadata": {},
   "outputs": [
    {
     "data": {
      "text/latex": [
       "\\begin{tabular}{rrrr}\n",
       "49473 & 59767 & 17393 & 20439\\\\\n",
       "41646 & 50362 & 15975 & 18746\\\\\n",
       "41512 & 50431 & 16313 & 19192\\\\\n",
       "29237 & 38696 & 13398 & 16963\\\\\n",
       "\\end{tabular}\n"
      ],
      "text/plain": [
       "L\"\\begin{tabular}{rrrr}\n",
       "49473 & 59767 & 17393 & 20439\\\\\n",
       "41646 & 50362 & 15975 & 18746\\\\\n",
       "41512 & 50431 & 16313 & 19192\\\\\n",
       "29237 & 38696 & 13398 & 16963\\\\\n",
       "\\end{tabular}\n",
       "\""
      ]
     },
     "execution_count": 21,
     "metadata": {},
     "output_type": "execute_result"
    }
   ],
   "source": [
    "expected = vcat(\n",
    "    mean(results_q1[3], dims = 1),\n",
    "    mean(results_q2[3], dims = 1),\n",
    "    mean(results_q3[3], dims = 1),\n",
    "    mean(results_q4[3], dims = 1)\n",
    ")\n",
    "\n",
    "stds = vcat(\n",
    "    std(results_q1[3], dims = 1),\n",
    "    std(results_q2[3], dims = 1),\n",
    "    std(results_q3[3], dims = 1),\n",
    "    std(results_q4[3], dims = 1)\n",
    ")\n",
    "\n",
    "zscore = quantile(Normal(), 1- 0.05/2)\n",
    "\n",
    "groupes_ci = hcat(\n",
    "    expected[:,1:2] .- zscore .* stds[:,1:2],\n",
    "    expected[:,1:2] .+ zscore .* stds[:,1:2]\n",
    "    )[:,[1,3,2,4]]\n",
    "\n",
    "latexify(groupes_ci; env=:table, latex=false, adjustment = :r, fmt = \"%.0f\")"
   ]
  },
  {
   "cell_type": "code",
   "execution_count": 26,
   "metadata": {},
   "outputs": [
    {
     "data": {
      "text/latex": [
       "\\begin{tabular}{rr}\n",
       "66866 & 80206\\\\\n",
       "57621 & 69107\\\\\n",
       "57825 & 69623\\\\\n",
       "42636 & 55658\\\\\n",
       "\\end{tabular}\n"
      ],
      "text/plain": [
       "L\"\\begin{tabular}{rr}\n",
       "66866 & 80206\\\\\n",
       "57621 & 69107\\\\\n",
       "57825 & 69623\\\\\n",
       "42636 & 55658\\\\\n",
       "\\end{tabular}\n",
       "\""
      ]
     },
     "execution_count": 26,
     "metadata": {},
     "output_type": "execute_result"
    }
   ],
   "source": [
    "total_ci = hcat(\n",
    "    sum(expected[:,1:2], dims = 2) .- zscore .* sum(stds[:,1:2], dims= 2),\n",
    "    sum(expected[:,1:2], dims = 2) .+ zscore .* sum(stds[:,1:2], dims= 2),    \n",
    ")\n",
    "latexify(total_ci; env=:table, latex=false, adjustment = :r, fmt = \"%.0f\")"
   ]
  },
  {
   "cell_type": "markdown",
   "metadata": {},
   "source": [
    "# Appendix"
   ]
  },
  {
   "cell_type": "markdown",
   "metadata": {},
   "source": [
    "## D  -- selection of stratification variables"
   ]
  },
  {
   "cell_type": "code",
   "execution_count": 73,
   "metadata": {},
   "outputs": [],
   "source": [
    "## small -> M (pol. małe)\n",
    "results_q1_a1 = cr_averse_analysis(cr_data, :q1, :q1_days, 30, :size, \"M\", false, 500, false);\n",
    "results_q2_a1 = cr_averse_analysis(cr_data, :q2, :q2_days, 30, :size, \"M\", false, 500, false);\n",
    "results_q3_a1 = cr_averse_analysis(cr_data, :q3, :q3_days, 30, :size, \"M\", false, 500, false);\n",
    "results_q4_a1 = cr_averse_analysis(cr_data, :q4, :q4_days, 30, :size, \"M\", false, 500, false);\n",
    "\n",
    "## medium -> S (pol. srednie)\n",
    "results_q1_a2 = cr_averse_analysis(cr_data, :q1, :q1_days, 30, :size, \"S\", false, 500, false);\n",
    "results_q2_a2 = cr_averse_analysis(cr_data, :q2, :q2_days, 30, :size, \"S\", false, 500, false);\n",
    "results_q3_a2 = cr_averse_analysis(cr_data, :q3, :q3_days, 30, :size, \"S\", false, 500, false);\n",
    "results_q4_a2 = cr_averse_analysis(cr_data, :q4, :q4_days, 30, :size, \"S\", false, 500, false);\n",
    "\n",
    "## sector \n",
    "results_q1_a3 = cr_averse_analysis(cr_data, :q1, :q1_days, 30, :sector, 1, false, 500, false);\n",
    "results_q2_a3 = cr_averse_analysis(cr_data, :q2, :q2_days, 30, :sector, 1, false, 500, false);\n",
    "results_q3_a3 = cr_averse_analysis(cr_data, :q3, :q3_days, 30, :sector, 1, false, 500, false);\n",
    "results_q4_a3 = cr_averse_analysis(cr_data, :q4, :q4_days, 30, :sector, 1, false, 500, false);\n",
    "\n",
    "## PKD -- G (largest)\n",
    "results_q1_a4 = cr_averse_analysis(cr_data, :q1, :q1_days, 30, :pkd, \"G\", false, 500, false);\n",
    "results_q2_a4 = cr_averse_analysis(cr_data, :q2, :q2_days, 30, :pkd, \"G\", false, 500, false);\n",
    "results_q3_a4 = cr_averse_analysis(cr_data, :q3, :q3_days, 30, :pkd, \"G\", false, 500, false);\n",
    "results_q4_a4 = cr_averse_analysis(cr_data, :q4, :q4_days, 30, :pkd, \"G\", false, 500, false);\n",
    "\n",
    "## PKD -- C (second from top 3)\n",
    "results_q1_a5 = cr_averse_analysis(cr_data, :q1, :q1_days, 30, :pkd, \"C\", false, 500, false);\n",
    "results_q2_a5 = cr_averse_analysis(cr_data, :q2, :q2_days, 30, :pkd, \"C\", false, 500, false);\n",
    "results_q3_a5 = cr_averse_analysis(cr_data, :q3, :q3_days, 30, :pkd, \"C\", false, 500, false);\n",
    "results_q4_a5 = cr_averse_analysis(cr_data, :q4, :q4_days, 30, :pkd, \"C\", false, 500, false);\n",
    "\n",
    "## PKD -- M (highest on pracuj)\n",
    "results_q1_a6 = cr_averse_analysis(cr_data, :q1, :q1_days, 30, :pkd, \"M\", false, 500, false);\n",
    "results_q2_a6 = cr_averse_analysis(cr_data, :q2, :q2_days, 30, :pkd, \"M\", false, 500, false);\n",
    "results_q3_a6 = cr_averse_analysis(cr_data, :q3, :q3_days, 30, :pkd, \"M\", false, 500, false);\n",
    "results_q4_a6 = cr_averse_analysis(cr_data, :q4, :q4_days, 30, :pkd, \"M\", false, 500, false);\n",
    "\n",
    "## PKD -- M (highest on pracuj)\n",
    "results_q1_a7 = cr_averse_analysis(cr_data, :q1, :q1_days, 30, :pkd, \"I\", false, 500, false);\n",
    "results_q2_a7 = cr_averse_analysis(cr_data, :q2, :q2_days, 30, :pkd, \"I\", false, 500, false);\n",
    "results_q3_a7 = cr_averse_analysis(cr_data, :q3, :q3_days, 30, :pkd, \"I\", false, 500, false);\n",
    "results_q4_a7 = cr_averse_analysis(cr_data, :q4, :q4_days, 30, :pkd, \"I\", false, 500, false);\n",
    "\n",
    "## woj -- 14 (where the capital is located)\n",
    "results_q1_a8 = cr_averse_analysis(cr_data, :q1, :q1_days, 30, :woj, 14, false, 500, false);\n",
    "results_q2_a8 = cr_averse_analysis(cr_data, :q2, :q2_days, 30, :woj, 14, false, 500, false);\n",
    "results_q3_a8 = cr_averse_analysis(cr_data, :q3, :q3_days, 30, :woj, 14, false, 500, false);\n",
    "results_q4_a8 = cr_averse_analysis(cr_data, :q4, :q4_days, 30, :woj, 14, false, 500, false);\n",
    "\n"
   ]
  },
  {
   "cell_type": "code",
   "execution_count": 79,
   "metadata": {},
   "outputs": [
    {
     "data": {
      "text/latex": [
       "\\begin{tabular}{rrrr}\n",
       "99605 & 81357 & 80729 & 61077\\\\\n",
       "31141 & 31766 & 36105 & 33163\\\\\n",
       "104583 & 124812 & 97505 & 71831\\\\\n",
       "141674 & 126785 & 121292 & 95381\\\\\n",
       "19845 & 19405 & 18370 & 28239\\\\\n",
       "142199 & 122570 & 119051 & 93220\\\\\n",
       "101602 & 125072 & 81941 & 55319\\\\\n",
       "132167 & 111632 & 111428 & 91009\\\\\n",
       "\\end{tabular}\n"
      ],
      "text/plain": [
       "L\"\\begin{tabular}{rrrr}\n",
       "99605 & 81357 & 80729 & 61077\\\\\n",
       "31141 & 31766 & 36105 & 33163\\\\\n",
       "104583 & 124812 & 97505 & 71831\\\\\n",
       "141674 & 126785 & 121292 & 95381\\\\\n",
       "19845 & 19405 & 18370 & 28239\\\\\n",
       "142199 & 122570 & 119051 & 93220\\\\\n",
       "101602 & 125072 & 81941 & 55319\\\\\n",
       "132167 & 111632 & 111428 & 91009\\\\\n",
       "\\end{tabular}\n",
       "\""
      ]
     },
     "execution_count": 79,
     "metadata": {},
     "output_type": "execute_result"
    }
   ],
   "source": [
    "results_strata = map(x -> sum(x[1][1:2]), \n",
    "                         [results_q1_a1, results_q2_a1, results_q3_a1, results_q4_a1,\n",
    "                          results_q1_a2, results_q2_a2, results_q3_a2, results_q4_a2,\n",
    "                          results_q1_a3, results_q2_a3, results_q3_a3, results_q4_a3,\n",
    "                          results_q1_a4, results_q2_a4, results_q3_a4, results_q4_a4,\n",
    "                          results_q1_a5, results_q2_a5, results_q3_a5, results_q4_a5,\n",
    "                          results_q1_a6, results_q2_a6, results_q3_a6, results_q4_a6,\n",
    "                          results_q1_a7, results_q2_a7, results_q3_a7, results_q4_a7,\n",
    "                          results_q1_a8, results_q2_a8, results_q3_a8, results_q4_a8])\n",
    "\n",
    "results_strata_res = reshape(results_strata, 4, 8)'\n",
    "\n",
    "latexify(results_strata_res; env=:table, latex=false, adjustment = :r, fmt = \"%.0f\")"
   ]
  },
  {
   "cell_type": "markdown",
   "metadata": {},
   "source": [
    "Loop over NACE levels  -- only for q1 becuase for other quarters data is to sparse"
   ]
  },
  {
   "cell_type": "code",
   "execution_count": 138,
   "metadata": {},
   "outputs": [
    {
     "data": {
      "text/plain": [
       "19-element Vector{Float64}:\n",
       " 112267.1283880904\n",
       " 102644.86786560943\n",
       "  19844.898254177315\n",
       " 153228.71670775797\n",
       "  79814.68255102547\n",
       " 135666.00366553615\n",
       " 141673.9602137246\n",
       " 134686.73749203858\n",
       " 101602.15849559402\n",
       " 145546.05444026727\n",
       " 153462.37179220864\n",
       " 152272.13559644777\n",
       " 142198.98112161297\n",
       "  22907.517558473708\n",
       " 129977.60653657423\n",
       " 149284.6095797069\n",
       " 116836.82735852922\n",
       " 121361.28144263117\n",
       " 123765.07486925594"
      ]
     },
     "execution_count": 138,
     "metadata": {},
     "output_type": "execute_result"
    }
   ],
   "source": [
    "results_nace = Float64[]\n",
    "\n",
    "for lev in sort(unique(cr_data.pkd))\n",
    "    nace_lev = cr_averse_analysis(cr_data, :q1, :q1_days, 30, :pkd, lev, false, 500, false);\n",
    "    append!(results_nace, sum(nace_lev[1][1:2]))\n",
    "end\n",
    "\n",
    "results_nace"
   ]
  },
  {
   "cell_type": "markdown",
   "metadata": {},
   "source": [
    "Loop over WOJ levels "
   ]
  },
  {
   "cell_type": "code",
   "execution_count": 152,
   "metadata": {},
   "outputs": [
    {
     "data": {
      "text/plain": [
       "16×4 Matrix{Float64}:\n",
       " 127.563    33.0676   61.1725  31.3906\n",
       "  93.5114   72.9935   75.0192  74.004\n",
       " 150.748   115.817    90.0773  85.3805\n",
       "  98.1754   98.2765   83.7968  92.4203\n",
       "  77.8125  121.895   107.977   70.9222\n",
       " 151.918   130.824   124.369   98.9592\n",
       " 132.167   111.632   111.428   91.0086\n",
       "  79.4915   79.8815   75.1014  71.315\n",
       "  87.6543   71.2824   87.7866  68.1609\n",
       "  90.496    76.4548  108.222   82.4273\n",
       " 153.253   126.138   119.465   65.3645\n",
       " 122.791   120.479   114.304   92.7219\n",
       "  95.0892   83.8569  108.671   65.7334\n",
       "  72.8086   93.3758  101.735   43.5122\n",
       " 148.395   130.869   125.79    98.6008\n",
       "  96.8934  117.876    90.7329  96.4235"
      ]
     },
     "execution_count": 152,
     "metadata": {},
     "output_type": "execute_result"
    }
   ],
   "source": [
    "results_woj = Float64[]\n",
    "\n",
    "for lev in sort(unique(cr_data.woj))\n",
    "    woj_lev = cr_averse_analysis(cr_data, :q1, :q1_days, 30, :woj, lev, false, 500, false);\n",
    "    append!(results_woj, sum(woj_lev[1][1:2]))\n",
    "    woj_lev = cr_averse_analysis(cr_data, :q2, :q2_days, 30, :woj, lev, false, 500, false);\n",
    "    append!(results_woj, sum(woj_lev[1][1:2]))\n",
    "    woj_lev = cr_averse_analysis(cr_data, :q3, :q3_days, 30, :woj, lev, false, 500, false);\n",
    "    append!(results_woj, sum(woj_lev[1][1:2]))\n",
    "    woj_lev = cr_averse_analysis(cr_data, :q4, :q4_days, 30, :woj, lev, false, 500, false);\n",
    "    append!(results_woj, sum(woj_lev[1][1:2]))    \n",
    "end\n",
    "\n",
    "results_woj_res = reshape(results_woj, 4, 16)'\n",
    "\n",
    "results_woj_res ./ 1000"
   ]
  }
 ],
 "metadata": {
  "kernelspec": {
   "display_name": "Julia 1.6.0",
   "language": "julia",
   "name": "julia-1.6"
  },
  "language_info": {
   "file_extension": ".jl",
   "mimetype": "application/julia",
   "name": "julia",
   "version": "1.6.0"
  }
 },
 "nbformat": 4,
 "nbformat_minor": 4
}
